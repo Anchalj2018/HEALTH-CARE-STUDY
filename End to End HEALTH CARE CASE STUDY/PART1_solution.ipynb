{
 "cells": [
  {
   "cell_type": "markdown",
   "metadata": {},
   "source": [
    "  ### CASE STUDY HEALTHCARE DATA ANALYSIS (PART 1) "
   ]
  },
  {
   "cell_type": "markdown",
   "metadata": {},
   "source": [
    "#### PART 1: Identify providers that overcharge for certain procedures or regions where procedures are too expensive"
   ]
  },
  {
   "cell_type": "code",
   "execution_count": 1,
   "metadata": {},
   "outputs": [],
   "source": [
    "import pandas as pd\n",
    "import numpy as np"
   ]
  },
  {
   "cell_type": "code",
   "execution_count": 2,
   "metadata": {},
   "outputs": [],
   "source": [
    "Medicare_Charge_In = pd.read_csv('Medicare_Charge_Inpatient_DRG100_DRG_Summary_by_DRG_FY2011.csv')\n",
    "Medicare_Charge_Out = pd.read_csv('Medicare_Charge_Outpatient_APC30_Summary_by_APC_CY2011.csv')\n",
    "Medicare_Provider_Charge_In = pd.read_csv('Medicare_Provider_Charge_Inpatient_DRG100_FY2011.csv')\n",
    "Medicare_Provider_Charge_Out = pd.read_csv('Medicare_Provider_Charge_Outpatient_APC30_CY2011_v2.csv')\n",
    "Patient_history = pd.read_csv('Patient_history_samp.csv')\n",
    "Review_patient = pd.read_csv('Review_patient_history_samp.csv')\n",
    "Rreview_transaction = pd.read_csv('Rreview_transaction_coo.csv')\n",
    "Transaction= pd.read_csv('Transaction_coo.csv')"
   ]
  },
  {
   "cell_type": "markdown",
   "metadata": {},
   "source": [
    "    The Data Analysis will be based on financial summary data from 2011 that were made availible by the centers of  Medicare and Medicaid Services\n",
    "    \n",
    "    Medicare_Provider_Charge_Inpatient_DRG100_FY2011.csv\n",
    "    Medicare_Provider_Charge_Outpatient_APC30_CY2011_v2.csv"
   ]
  },
  {
   "cell_type": "code",
   "execution_count": 3,
   "metadata": {},
   "outputs": [
    {
     "name": "stdout",
     "output_type": "stream",
     "text": [
      "<class 'pandas.core.frame.DataFrame'>\n",
      "RangeIndex: 163065 entries, 0 to 163064\n",
      "Data columns (total 12 columns):\n",
      "DRG Definition                                163065 non-null object\n",
      "Provider Id                                   163065 non-null int64\n",
      "Provider Name                                 163065 non-null object\n",
      "Provider Street Address                       163065 non-null object\n",
      "Provider City                                 163065 non-null object\n",
      "Provider State                                163065 non-null object\n",
      "Provider Zip Code                             163065 non-null int64\n",
      "Hospital Referral Region (HRR) Description    163065 non-null object\n",
      "Total Discharges                              163065 non-null int64\n",
      "Average Covered Charges                       163065 non-null float64\n",
      "Average Total Payments                        163065 non-null float64\n",
      "Average Medicare Payments                     163065 non-null float64\n",
      "dtypes: float64(3), int64(3), object(6)\n",
      "memory usage: 14.9+ MB\n"
     ]
    }
   ],
   "source": [
    "Medicare_Provider_Charge_In.info()"
   ]
  },
  {
   "cell_type": "code",
   "execution_count": 4,
   "metadata": {},
   "outputs": [
    {
     "name": "stdout",
     "output_type": "stream",
     "text": [
      "<class 'pandas.core.frame.DataFrame'>\n",
      "RangeIndex: 43372 entries, 0 to 43371\n",
      "Data columns (total 11 columns):\n",
      "APC                                           43372 non-null object\n",
      "Provider Id                                   43372 non-null int64\n",
      "Provider Name                                 43372 non-null object\n",
      "Provider Street Address                       43372 non-null object\n",
      "Provider City                                 43372 non-null object\n",
      "Provider State                                43372 non-null object\n",
      "Provider Zip Code                             43372 non-null int64\n",
      "Hospital Referral Region (HRR) Description    43372 non-null object\n",
      "Outpatient Services                           43372 non-null int64\n",
      "Average  Estimated Submitted Charges          43372 non-null float64\n",
      "Average Total Payments                        43372 non-null float64\n",
      "dtypes: float64(2), int64(3), object(6)\n",
      "memory usage: 3.6+ MB\n"
     ]
    }
   ],
   "source": [
    "Medicare_Provider_Charge_Out.info()"
   ]
  },
  {
   "cell_type": "markdown",
   "metadata": {},
   "source": [
    "   ### PART1A - Highest Cost Variation"
   ]
  },
  {
   "cell_type": "markdown",
   "metadata": {},
   "source": [
    "    The Highest cost variation can be calculated by dividing the standard deviation by the mean.\n",
    "    \n",
    "    \n",
    "    The 3 Highest cost variation  can be seen in Outpatients for following APCS-\n",
    "    \n",
    "    0604 - Level 1 Hospital Clinic Visits\n",
    "    0698 - Level II Eye Tests & Treatments\n",
    "    0019 - Level I Excision/ Biopsy"
   ]
  },
  {
   "cell_type": "code",
   "execution_count": 5,
   "metadata": {},
   "outputs": [],
   "source": [
    "# Finding Standard deviation and mean for InpatientDRG\n",
    "Medicare_in = pd.concat(\n",
    "[Medicare_Provider_Charge_In[['DRG Definition','Average Covered Charges']].groupby(['DRG Definition']).agg('std').add_suffix('_std'),\n",
    " Medicare_Provider_Charge_In[['DRG Definition','Average Covered Charges']].groupby(['DRG Definition']).agg('mean').add_suffix('_avg')]\n",
    " , axis =1)"
   ]
  },
  {
   "cell_type": "code",
   "execution_count": 6,
   "metadata": {},
   "outputs": [],
   "source": [
    "#Coefficient of Variance, the standard deviation divided by the mean\n",
    "Medicare_in['Variation'] = Medicare_in.apply(lambda x: x['Average Covered Charges_std']/x['Average Covered Charges_avg'],axis =1)"
   ]
  },
  {
   "cell_type": "code",
   "execution_count": 7,
   "metadata": {},
   "outputs": [
    {
     "data": {
      "text/plain": [
       "DRG Definition\n",
       "885 - PSYCHOSES                                                              0.717796\n",
       "897 - ALCOHOL/DRUG ABUSE OR DEPENDENCE W/O REHABILITATION THERAPY W/O MCC    0.633967\n",
       "917 - POISONING & TOXIC EFFECTS OF DRUGS W MCC                               0.613150\n",
       "Name: Variation, dtype: float64"
      ]
     },
     "execution_count": 7,
     "metadata": {},
     "output_type": "execute_result"
    }
   ],
   "source": [
    "Medicare_in['Variation'].sort_values(ascending=False).head(3)"
   ]
  },
  {
   "cell_type": "code",
   "execution_count": 12,
   "metadata": {},
   "outputs": [],
   "source": [
    "# Finding Standard deviation and mean for OutpatientDRG\n",
    "Medicare_out = pd.concat([Medicare_Provider_Charge_Out[[\"APC\",\"Average  Estimated Submitted Charges\"]].groupby(['APC']).agg('std').add_suffix('_std'),\n",
    "Medicare_Provider_Charge_Out[[\"APC\",\"Average  Estimated Submitted Charges\"]].groupby(['APC']).agg('mean').add_suffix('_avg')],\n",
    "axis =1)"
   ]
  },
  {
   "cell_type": "code",
   "execution_count": 13,
   "metadata": {},
   "outputs": [],
   "source": [
    "#Coefficient of Variance, the standard deviation divided by the mean\n",
    "Medicare_out['Variation'] = Medicare_out.apply(lambda x: x['Average  Estimated Submitted Charges_std']/x['Average  Estimated Submitted Charges_avg'],axis =1)"
   ]
  },
  {
   "cell_type": "code",
   "execution_count": 14,
   "metadata": {},
   "outputs": [
    {
     "data": {
      "text/plain": [
       "APC\n",
       "0604 - Level 1 Hospital Clinic Visits     1.385150\n",
       "0698 - Level II Eye Tests & Treatments    1.310444\n",
       "0019 - Level I Excision/ Biopsy           1.229897\n",
       "Name: Variation, dtype: float64"
      ]
     },
     "execution_count": 14,
     "metadata": {},
     "output_type": "execute_result"
    }
   ],
   "source": [
    "Medicare_out['Variation'].sort_values(ascending=False).head(3)"
   ]
  },
  {
   "cell_type": "markdown",
   "metadata": {},
   "source": [
    " ### PART1B - Highest Cost Claims by provider\n",
    "    \n",
    "    The 3 Highest cost claims can be seen for follwing Providers-\n",
    "    \n",
    "    BAYONNE HOSPITAL CENTER       \n",
    "    CROZER CHESTER MEDICAL CENTER \n",
    "    STANFORD HOSPITAL             \n",
    "    "
   ]
  },
  {
   "cell_type": "markdown",
   "metadata": {},
   "source": [
    "#### For InPatient"
   ]
  },
  {
   "cell_type": "code",
   "execution_count": 15,
   "metadata": {},
   "outputs": [
    {
     "data": {
      "text/html": [
       "<div>\n",
       "<style scoped>\n",
       "    .dataframe tbody tr th:only-of-type {\n",
       "        vertical-align: middle;\n",
       "    }\n",
       "\n",
       "    .dataframe tbody tr th {\n",
       "        vertical-align: top;\n",
       "    }\n",
       "\n",
       "    .dataframe thead th {\n",
       "        text-align: right;\n",
       "    }\n",
       "</style>\n",
       "<table border=\"1\" class=\"dataframe\">\n",
       "  <thead>\n",
       "    <tr style=\"text-align: right;\">\n",
       "      <th></th>\n",
       "      <th>DRG Definition</th>\n",
       "      <th>Provider Id</th>\n",
       "      <th>Provider Name</th>\n",
       "      <th>Provider Street Address</th>\n",
       "      <th>Provider City</th>\n",
       "      <th>Provider State</th>\n",
       "      <th>Provider Zip Code</th>\n",
       "      <th>Hospital Referral Region (HRR) Description</th>\n",
       "      <th>Total Discharges</th>\n",
       "      <th>Average Covered Charges</th>\n",
       "      <th>Average Total Payments</th>\n",
       "      <th>Average Medicare Payments</th>\n",
       "    </tr>\n",
       "  </thead>\n",
       "  <tbody>\n",
       "    <tr>\n",
       "      <th>0</th>\n",
       "      <td>039 - EXTRACRANIAL PROCEDURES W/O CC/MCC</td>\n",
       "      <td>10001</td>\n",
       "      <td>SOUTHEAST ALABAMA MEDICAL CENTER</td>\n",
       "      <td>1108 ROSS CLARK CIRCLE</td>\n",
       "      <td>DOTHAN</td>\n",
       "      <td>AL</td>\n",
       "      <td>36301</td>\n",
       "      <td>AL - Dothan</td>\n",
       "      <td>91</td>\n",
       "      <td>32963.07692</td>\n",
       "      <td>5777.241758</td>\n",
       "      <td>4763.736264</td>\n",
       "    </tr>\n",
       "    <tr>\n",
       "      <th>1</th>\n",
       "      <td>039 - EXTRACRANIAL PROCEDURES W/O CC/MCC</td>\n",
       "      <td>10005</td>\n",
       "      <td>MARSHALL MEDICAL CENTER SOUTH</td>\n",
       "      <td>2505 U S HIGHWAY 431 NORTH</td>\n",
       "      <td>BOAZ</td>\n",
       "      <td>AL</td>\n",
       "      <td>35957</td>\n",
       "      <td>AL - Birmingham</td>\n",
       "      <td>14</td>\n",
       "      <td>15131.85714</td>\n",
       "      <td>5787.571429</td>\n",
       "      <td>4976.714286</td>\n",
       "    </tr>\n",
       "  </tbody>\n",
       "</table>\n",
       "</div>"
      ],
      "text/plain": [
       "                             DRG Definition  Provider Id  \\\n",
       "0  039 - EXTRACRANIAL PROCEDURES W/O CC/MCC        10001   \n",
       "1  039 - EXTRACRANIAL PROCEDURES W/O CC/MCC        10005   \n",
       "\n",
       "                      Provider Name     Provider Street Address Provider City  \\\n",
       "0  SOUTHEAST ALABAMA MEDICAL CENTER      1108 ROSS CLARK CIRCLE        DOTHAN   \n",
       "1     MARSHALL MEDICAL CENTER SOUTH  2505 U S HIGHWAY 431 NORTH          BOAZ   \n",
       "\n",
       "  Provider State  Provider Zip Code  \\\n",
       "0             AL              36301   \n",
       "1             AL              35957   \n",
       "\n",
       "  Hospital Referral Region (HRR) Description  Total Discharges  \\\n",
       "0                                AL - Dothan                91   \n",
       "1                            AL - Birmingham                14   \n",
       "\n",
       "   Average Covered Charges  Average Total Payments  Average Medicare Payments  \n",
       "0              32963.07692             5777.241758                4763.736264  \n",
       "1              15131.85714             5787.571429                4976.714286  "
      ]
     },
     "execution_count": 15,
     "metadata": {},
     "output_type": "execute_result"
    }
   ],
   "source": [
    "Medicare_Provider_Charge_In.head(2)"
   ]
  },
  {
   "cell_type": "code",
   "execution_count": 16,
   "metadata": {},
   "outputs": [],
   "source": [
    "#Finding the max of Average Covered Charges for InpatientDRG\n",
    "Medicare_in1 = pd.DataFrame(Medicare_Provider_Charge_In[['DRG Definition', 'Average Covered Charges']].groupby(['DRG Definition']).agg('max').add_suffix('_max')).reset_index()"
   ]
  },
  {
   "cell_type": "code",
   "execution_count": 17,
   "metadata": {},
   "outputs": [
    {
     "data": {
      "text/html": [
       "<div>\n",
       "<style scoped>\n",
       "    .dataframe tbody tr th:only-of-type {\n",
       "        vertical-align: middle;\n",
       "    }\n",
       "\n",
       "    .dataframe tbody tr th {\n",
       "        vertical-align: top;\n",
       "    }\n",
       "\n",
       "    .dataframe thead th {\n",
       "        text-align: right;\n",
       "    }\n",
       "</style>\n",
       "<table border=\"1\" class=\"dataframe\">\n",
       "  <thead>\n",
       "    <tr style=\"text-align: right;\">\n",
       "      <th></th>\n",
       "      <th>DRG Definition</th>\n",
       "      <th>Average Covered Charges_max</th>\n",
       "    </tr>\n",
       "  </thead>\n",
       "  <tbody>\n",
       "    <tr>\n",
       "      <th>0</th>\n",
       "      <td>039 - EXTRACRANIAL PROCEDURES W/O CC/MCC</td>\n",
       "      <td>146892.0000</td>\n",
       "    </tr>\n",
       "    <tr>\n",
       "      <th>1</th>\n",
       "      <td>057 - DEGENERATIVE NERVOUS SYSTEM DISORDERS W/...</td>\n",
       "      <td>148128.4375</td>\n",
       "    </tr>\n",
       "    <tr>\n",
       "      <th>2</th>\n",
       "      <td>064 - INTRACRANIAL HEMORRHAGE OR CEREBRAL INFA...</td>\n",
       "      <td>234912.7000</td>\n",
       "    </tr>\n",
       "  </tbody>\n",
       "</table>\n",
       "</div>"
      ],
      "text/plain": [
       "                                      DRG Definition  \\\n",
       "0           039 - EXTRACRANIAL PROCEDURES W/O CC/MCC   \n",
       "1  057 - DEGENERATIVE NERVOUS SYSTEM DISORDERS W/...   \n",
       "2  064 - INTRACRANIAL HEMORRHAGE OR CEREBRAL INFA...   \n",
       "\n",
       "   Average Covered Charges_max  \n",
       "0                  146892.0000  \n",
       "1                  148128.4375  \n",
       "2                  234912.7000  "
      ]
     },
     "execution_count": 17,
     "metadata": {},
     "output_type": "execute_result"
    }
   ],
   "source": [
    " Medicare_in1.head(3)"
   ]
  },
  {
   "cell_type": "code",
   "execution_count": 18,
   "metadata": {},
   "outputs": [],
   "source": [
    "#Merging the max value with InpatientDRG dataset\n",
    "Medicare_in_merg = Medicare_Provider_Charge_In.merge(Medicare_in1,on='DRG Definition', how='left')"
   ]
  },
  {
   "cell_type": "code",
   "execution_count": 19,
   "metadata": {},
   "outputs": [],
   "source": [
    "Medicare_in_merg.to_csv('Medicare_in_merg.csv')"
   ]
  },
  {
   "cell_type": "code",
   "execution_count": 20,
   "metadata": {
    "scrolled": true
   },
   "outputs": [
    {
     "data": {
      "text/html": [
       "<div>\n",
       "<style scoped>\n",
       "    .dataframe tbody tr th:only-of-type {\n",
       "        vertical-align: middle;\n",
       "    }\n",
       "\n",
       "    .dataframe tbody tr th {\n",
       "        vertical-align: top;\n",
       "    }\n",
       "\n",
       "    .dataframe thead th {\n",
       "        text-align: right;\n",
       "    }\n",
       "</style>\n",
       "<table border=\"1\" class=\"dataframe\">\n",
       "  <thead>\n",
       "    <tr style=\"text-align: right;\">\n",
       "      <th></th>\n",
       "      <th>Provider Name</th>\n",
       "      <th>Average Covered Charges_count</th>\n",
       "    </tr>\n",
       "  </thead>\n",
       "  <tbody>\n",
       "    <tr>\n",
       "      <th>0</th>\n",
       "      <td>BAYONNE HOSPITAL CENTER</td>\n",
       "      <td>23</td>\n",
       "    </tr>\n",
       "    <tr>\n",
       "      <th>5</th>\n",
       "      <td>CROZER CHESTER MEDICAL CENTER</td>\n",
       "      <td>11</td>\n",
       "    </tr>\n",
       "    <tr>\n",
       "      <th>26</th>\n",
       "      <td>STANFORD HOSPITAL</td>\n",
       "      <td>10</td>\n",
       "    </tr>\n",
       "  </tbody>\n",
       "</table>\n",
       "</div>"
      ],
      "text/plain": [
       "                    Provider Name  Average Covered Charges_count\n",
       "0         BAYONNE HOSPITAL CENTER                             23\n",
       "5   CROZER CHESTER MEDICAL CENTER                             11\n",
       "26              STANFORD HOSPITAL                             10"
      ]
     },
     "execution_count": 20,
     "metadata": {},
     "output_type": "execute_result"
    }
   ],
   "source": [
    "#getting number of providers charge max value for procedure\n",
    "Medicare_in_merg.loc[Medicare_in_merg['Average Covered Charges_max']  == Medicare_in_merg['Average Covered Charges'],['Provider Name','Average Covered Charges']].groupby('Provider Name').count().add_suffix('_count').reset_index().sort_values(by=['Average Covered Charges_count'],ascending=False).head(3)"
   ]
  },
  {
   "cell_type": "code",
   "execution_count": 21,
   "metadata": {},
   "outputs": [
    {
     "data": {
      "text/html": [
       "<div>\n",
       "<style scoped>\n",
       "    .dataframe tbody tr th:only-of-type {\n",
       "        vertical-align: middle;\n",
       "    }\n",
       "\n",
       "    .dataframe tbody tr th {\n",
       "        vertical-align: top;\n",
       "    }\n",
       "\n",
       "    .dataframe thead th {\n",
       "        text-align: right;\n",
       "    }\n",
       "</style>\n",
       "<table border=\"1\" class=\"dataframe\">\n",
       "  <thead>\n",
       "    <tr style=\"text-align: right;\">\n",
       "      <th></th>\n",
       "      <th>Hospital Referral Region (HRR) Description</th>\n",
       "      <th>Average Covered Charges_count</th>\n",
       "    </tr>\n",
       "  </thead>\n",
       "  <tbody>\n",
       "    <tr>\n",
       "      <th>14</th>\n",
       "      <td>NJ - Newark</td>\n",
       "      <td>25</td>\n",
       "    </tr>\n",
       "    <tr>\n",
       "      <th>16</th>\n",
       "      <td>PA - Philadelphia</td>\n",
       "      <td>23</td>\n",
       "    </tr>\n",
       "    <tr>\n",
       "      <th>7</th>\n",
       "      <td>CA - San Mateo County</td>\n",
       "      <td>13</td>\n",
       "    </tr>\n",
       "  </tbody>\n",
       "</table>\n",
       "</div>"
      ],
      "text/plain": [
       "   Hospital Referral Region (HRR) Description  Average Covered Charges_count\n",
       "14                                NJ - Newark                             25\n",
       "16                          PA - Philadelphia                             23\n",
       "7                       CA - San Mateo County                             13"
      ]
     },
     "execution_count": 21,
     "metadata": {},
     "output_type": "execute_result"
    }
   ],
   "source": [
    "#getting number of times a region has charge max value for procedure\n",
    "Medicare_in_merg.loc[Medicare_in_merg['Average Covered Charges_max']  == Medicare_in_merg['Average Covered Charges'],['Hospital Referral Region (HRR) Description','Average Covered Charges']].groupby('Hospital Referral Region (HRR) Description').count().add_suffix('_count').reset_index().sort_values(by=['Average Covered Charges_count'],ascending=False).head(3)"
   ]
  },
  {
   "cell_type": "markdown",
   "metadata": {},
   "source": [
    "#### FOR OutpatientAPC"
   ]
  },
  {
   "cell_type": "code",
   "execution_count": 22,
   "metadata": {},
   "outputs": [
    {
     "data": {
      "text/plain": [
       "Index(['APC', 'Provider Id', 'Provider Name', 'Provider Street Address',\n",
       "       'Provider City', 'Provider State', 'Provider Zip Code',\n",
       "       'Hospital Referral Region (HRR) Description', 'Outpatient Services',\n",
       "       'Average  Estimated Submitted Charges', 'Average Total Payments'],\n",
       "      dtype='object')"
      ]
     },
     "execution_count": 22,
     "metadata": {},
     "output_type": "execute_result"
    }
   ],
   "source": [
    "Medicare_Provider_Charge_Out.columns"
   ]
  },
  {
   "cell_type": "code",
   "execution_count": 23,
   "metadata": {},
   "outputs": [],
   "source": [
    "#Finding the max of Average Covered Charges for OutPatientAPC\n",
    "Medicare_out1 = pd.DataFrame(Medicare_Provider_Charge_Out[['APC', 'Average  Estimated Submitted Charges']].groupby(['APC']).agg('max').add_suffix('_max')).reset_index()"
   ]
  },
  {
   "cell_type": "code",
   "execution_count": 24,
   "metadata": {},
   "outputs": [
    {
     "data": {
      "text/html": [
       "<div>\n",
       "<style scoped>\n",
       "    .dataframe tbody tr th:only-of-type {\n",
       "        vertical-align: middle;\n",
       "    }\n",
       "\n",
       "    .dataframe tbody tr th {\n",
       "        vertical-align: top;\n",
       "    }\n",
       "\n",
       "    .dataframe thead th {\n",
       "        text-align: right;\n",
       "    }\n",
       "</style>\n",
       "<table border=\"1\" class=\"dataframe\">\n",
       "  <thead>\n",
       "    <tr style=\"text-align: right;\">\n",
       "      <th></th>\n",
       "      <th>APC</th>\n",
       "      <th>Average  Estimated Submitted Charges_max</th>\n",
       "    </tr>\n",
       "  </thead>\n",
       "  <tbody>\n",
       "    <tr>\n",
       "      <th>0</th>\n",
       "      <td>0012 - Level I Debridement &amp; Destruction</td>\n",
       "      <td>841.9</td>\n",
       "    </tr>\n",
       "    <tr>\n",
       "      <th>1</th>\n",
       "      <td>0013 - Level II Debridement &amp; Destruction</td>\n",
       "      <td>5231.0</td>\n",
       "    </tr>\n",
       "  </tbody>\n",
       "</table>\n",
       "</div>"
      ],
      "text/plain": [
       "                                         APC  \\\n",
       "0   0012 - Level I Debridement & Destruction   \n",
       "1  0013 - Level II Debridement & Destruction   \n",
       "\n",
       "   Average  Estimated Submitted Charges_max  \n",
       "0                                     841.9  \n",
       "1                                    5231.0  "
      ]
     },
     "execution_count": 24,
     "metadata": {},
     "output_type": "execute_result"
    }
   ],
   "source": [
    " Medicare_out1.head(2)"
   ]
  },
  {
   "cell_type": "code",
   "execution_count": 25,
   "metadata": {},
   "outputs": [],
   "source": [
    "#Merging the max value with InpatientDRG dataset\n",
    "Medicare_out_merg = Medicare_Provider_Charge_Out.merge(Medicare_out1,on='APC', how='left')"
   ]
  },
  {
   "cell_type": "code",
   "execution_count": 26,
   "metadata": {},
   "outputs": [
    {
     "data": {
      "text/html": [
       "<div>\n",
       "<style scoped>\n",
       "    .dataframe tbody tr th:only-of-type {\n",
       "        vertical-align: middle;\n",
       "    }\n",
       "\n",
       "    .dataframe tbody tr th {\n",
       "        vertical-align: top;\n",
       "    }\n",
       "\n",
       "    .dataframe thead th {\n",
       "        text-align: right;\n",
       "    }\n",
       "</style>\n",
       "<table border=\"1\" class=\"dataframe\">\n",
       "  <thead>\n",
       "    <tr style=\"text-align: right;\">\n",
       "      <th></th>\n",
       "      <th>Provider Name</th>\n",
       "      <th>Average  Estimated Submitted Charges_count</th>\n",
       "    </tr>\n",
       "  </thead>\n",
       "  <tbody>\n",
       "    <tr>\n",
       "      <th>3</th>\n",
       "      <td>COLUMBIA HOSPITAL</td>\n",
       "      <td>2</td>\n",
       "    </tr>\n",
       "    <tr>\n",
       "      <th>8</th>\n",
       "      <td>FORT WALTON BEACH MEDICAL CENTER</td>\n",
       "      <td>2</td>\n",
       "    </tr>\n",
       "    <tr>\n",
       "      <th>1</th>\n",
       "      <td>CAPITAL HEALTH MEDICAL CENTER - HOPEWELL</td>\n",
       "      <td>2</td>\n",
       "    </tr>\n",
       "  </tbody>\n",
       "</table>\n",
       "</div>"
      ],
      "text/plain": [
       "                              Provider Name  \\\n",
       "3                         COLUMBIA HOSPITAL   \n",
       "8          FORT WALTON BEACH MEDICAL CENTER   \n",
       "1  CAPITAL HEALTH MEDICAL CENTER - HOPEWELL   \n",
       "\n",
       "   Average  Estimated Submitted Charges_count  \n",
       "3                                           2  \n",
       "8                                           2  \n",
       "1                                           2  "
      ]
     },
     "execution_count": 26,
     "metadata": {},
     "output_type": "execute_result"
    }
   ],
   "source": [
    "Medicare_out_merg.loc[Medicare_out_merg['Average  Estimated Submitted Charges_max']  == Medicare_out_merg['Average  Estimated Submitted Charges'],['Provider Name','Average  Estimated Submitted Charges']].groupby('Provider Name').count().add_suffix('_count').reset_index().sort_values(by=['Average  Estimated Submitted Charges_count'],ascending=False).head(3)"
   ]
  },
  {
   "cell_type": "code",
   "execution_count": 27,
   "metadata": {},
   "outputs": [
    {
     "data": {
      "text/html": [
       "<div>\n",
       "<style scoped>\n",
       "    .dataframe tbody tr th:only-of-type {\n",
       "        vertical-align: middle;\n",
       "    }\n",
       "\n",
       "    .dataframe tbody tr th {\n",
       "        vertical-align: top;\n",
       "    }\n",
       "\n",
       "    .dataframe thead th {\n",
       "        text-align: right;\n",
       "    }\n",
       "</style>\n",
       "<table border=\"1\" class=\"dataframe\">\n",
       "  <thead>\n",
       "    <tr style=\"text-align: right;\">\n",
       "      <th></th>\n",
       "      <th>Hospital Referral Region (HRR) Description</th>\n",
       "      <th>Average  Estimated Submitted Charges_count</th>\n",
       "    </tr>\n",
       "  </thead>\n",
       "  <tbody>\n",
       "    <tr>\n",
       "      <th>17</th>\n",
       "      <td>PA - Philadelphia</td>\n",
       "      <td>5</td>\n",
       "    </tr>\n",
       "    <tr>\n",
       "      <th>1</th>\n",
       "      <td>CA - Los Angeles</td>\n",
       "      <td>3</td>\n",
       "    </tr>\n",
       "    <tr>\n",
       "      <th>10</th>\n",
       "      <td>MA - Boston</td>\n",
       "      <td>2</td>\n",
       "    </tr>\n",
       "  </tbody>\n",
       "</table>\n",
       "</div>"
      ],
      "text/plain": [
       "   Hospital Referral Region (HRR) Description  \\\n",
       "17                          PA - Philadelphia   \n",
       "1                            CA - Los Angeles   \n",
       "10                                MA - Boston   \n",
       "\n",
       "    Average  Estimated Submitted Charges_count  \n",
       "17                                           5  \n",
       "1                                            3  \n",
       "10                                           2  "
      ]
     },
     "execution_count": 27,
     "metadata": {},
     "output_type": "execute_result"
    }
   ],
   "source": [
    "Medicare_out_merg.loc[Medicare_out_merg['Average  Estimated Submitted Charges_max']  == Medicare_out_merg['Average  Estimated Submitted Charges'],['Hospital Referral Region (HRR) Description','Average  Estimated Submitted Charges']].groupby('Hospital Referral Region (HRR) Description').count().add_suffix('_count').reset_index().sort_values(by=['Average  Estimated Submitted Charges_count'],ascending=False).head(3)"
   ]
  },
  {
   "cell_type": "markdown",
   "metadata": {},
   "source": [
    "  ###  PART1C - Highest Cost Claims by Region"
   ]
  },
  {
   "cell_type": "markdown",
   "metadata": {
    "collapsed": true
   },
   "source": [
    "    Combining the counts of Inpatient and Outpatients Following are the 3 Highest cost claims by Region -\n",
    "    \n",
    "   \n",
    "    Hospital Referral Region (HRR) Description\n",
    "\n",
    "1. CA - Contra Costa County 36.0\n",
    "2. CA - San Mateo County 24.0\n",
    "3. CA - Santa Cruz 11.0"
   ]
  },
  {
   "cell_type": "markdown",
   "metadata": {},
   "source": [
    "#### FOR InpatientDRG"
   ]
  },
  {
   "cell_type": "code",
   "execution_count": 28,
   "metadata": {},
   "outputs": [],
   "source": [
    "#Finding the mean of Average Covered Charges for InpatientDRG by DRG Defination and Region\n",
    "Medicare_in_rg = pd.DataFrame(Medicare_Provider_Charge_In[['DRG Definition', 'Hospital Referral Region (HRR) Description',  'Average Covered Charges']].groupby(['DRG Definition', 'Hospital Referral Region (HRR) Description']).agg('mean').add_suffix('_avg')).reset_index()"
   ]
  },
  {
   "cell_type": "code",
   "execution_count": 29,
   "metadata": {},
   "outputs": [
    {
     "data": {
      "text/html": [
       "<div>\n",
       "<style scoped>\n",
       "    .dataframe tbody tr th:only-of-type {\n",
       "        vertical-align: middle;\n",
       "    }\n",
       "\n",
       "    .dataframe tbody tr th {\n",
       "        vertical-align: top;\n",
       "    }\n",
       "\n",
       "    .dataframe thead th {\n",
       "        text-align: right;\n",
       "    }\n",
       "</style>\n",
       "<table border=\"1\" class=\"dataframe\">\n",
       "  <thead>\n",
       "    <tr style=\"text-align: right;\">\n",
       "      <th></th>\n",
       "      <th>DRG Definition</th>\n",
       "      <th>Hospital Referral Region (HRR) Description</th>\n",
       "      <th>Average Covered Charges_avg</th>\n",
       "    </tr>\n",
       "  </thead>\n",
       "  <tbody>\n",
       "    <tr>\n",
       "      <th>0</th>\n",
       "      <td>039 - EXTRACRANIAL PROCEDURES W/O CC/MCC</td>\n",
       "      <td>AK - Anchorage</td>\n",
       "      <td>34805.130430</td>\n",
       "    </tr>\n",
       "    <tr>\n",
       "      <th>1</th>\n",
       "      <td>039 - EXTRACRANIAL PROCEDURES W/O CC/MCC</td>\n",
       "      <td>AL - Birmingham</td>\n",
       "      <td>40237.361538</td>\n",
       "    </tr>\n",
       "    <tr>\n",
       "      <th>2</th>\n",
       "      <td>039 - EXTRACRANIAL PROCEDURES W/O CC/MCC</td>\n",
       "      <td>AL - Dothan</td>\n",
       "      <td>36285.182905</td>\n",
       "    </tr>\n",
       "    <tr>\n",
       "      <th>3</th>\n",
       "      <td>039 - EXTRACRANIAL PROCEDURES W/O CC/MCC</td>\n",
       "      <td>AL - Huntsville</td>\n",
       "      <td>18878.955554</td>\n",
       "    </tr>\n",
       "    <tr>\n",
       "      <th>4</th>\n",
       "      <td>039 - EXTRACRANIAL PROCEDURES W/O CC/MCC</td>\n",
       "      <td>AL - Mobile</td>\n",
       "      <td>22802.270118</td>\n",
       "    </tr>\n",
       "  </tbody>\n",
       "</table>\n",
       "</div>"
      ],
      "text/plain": [
       "                             DRG Definition  \\\n",
       "0  039 - EXTRACRANIAL PROCEDURES W/O CC/MCC   \n",
       "1  039 - EXTRACRANIAL PROCEDURES W/O CC/MCC   \n",
       "2  039 - EXTRACRANIAL PROCEDURES W/O CC/MCC   \n",
       "3  039 - EXTRACRANIAL PROCEDURES W/O CC/MCC   \n",
       "4  039 - EXTRACRANIAL PROCEDURES W/O CC/MCC   \n",
       "\n",
       "  Hospital Referral Region (HRR) Description  Average Covered Charges_avg  \n",
       "0                             AK - Anchorage                 34805.130430  \n",
       "1                            AL - Birmingham                 40237.361538  \n",
       "2                                AL - Dothan                 36285.182905  \n",
       "3                            AL - Huntsville                 18878.955554  \n",
       "4                                AL - Mobile                 22802.270118  "
      ]
     },
     "execution_count": 29,
     "metadata": {},
     "output_type": "execute_result"
    }
   ],
   "source": [
    "Medicare_in_rg.head(5)"
   ]
  },
  {
   "cell_type": "code",
   "execution_count": 33,
   "metadata": {},
   "outputs": [],
   "source": [
    "Medicare_in_max=Medicare_in_rg[['DRG Definition', 'Average Covered Charges_avg']].groupby(['DRG Definition']).agg('max').add_suffix('_max').reset_index()"
   ]
  },
  {
   "cell_type": "code",
   "execution_count": 34,
   "metadata": {},
   "outputs": [
    {
     "data": {
      "text/html": [
       "<div>\n",
       "<style scoped>\n",
       "    .dataframe tbody tr th:only-of-type {\n",
       "        vertical-align: middle;\n",
       "    }\n",
       "\n",
       "    .dataframe tbody tr th {\n",
       "        vertical-align: top;\n",
       "    }\n",
       "\n",
       "    .dataframe thead th {\n",
       "        text-align: right;\n",
       "    }\n",
       "</style>\n",
       "<table border=\"1\" class=\"dataframe\">\n",
       "  <thead>\n",
       "    <tr style=\"text-align: right;\">\n",
       "      <th></th>\n",
       "      <th>DRG Definition</th>\n",
       "      <th>Average Covered Charges_avg_max</th>\n",
       "    </tr>\n",
       "  </thead>\n",
       "  <tbody>\n",
       "    <tr>\n",
       "      <th>0</th>\n",
       "      <td>039 - EXTRACRANIAL PROCEDURES W/O CC/MCC</td>\n",
       "      <td>105929.4706</td>\n",
       "    </tr>\n",
       "    <tr>\n",
       "      <th>1</th>\n",
       "      <td>057 - DEGENERATIVE NERVOUS SYSTEM DISORDERS W/...</td>\n",
       "      <td>148128.4375</td>\n",
       "    </tr>\n",
       "  </tbody>\n",
       "</table>\n",
       "</div>"
      ],
      "text/plain": [
       "                                      DRG Definition  \\\n",
       "0           039 - EXTRACRANIAL PROCEDURES W/O CC/MCC   \n",
       "1  057 - DEGENERATIVE NERVOUS SYSTEM DISORDERS W/...   \n",
       "\n",
       "   Average Covered Charges_avg_max  \n",
       "0                      105929.4706  \n",
       "1                      148128.4375  "
      ]
     },
     "execution_count": 34,
     "metadata": {},
     "output_type": "execute_result"
    }
   ],
   "source": [
    "Medicare_in_max.head(2)"
   ]
  },
  {
   "cell_type": "code",
   "execution_count": 35,
   "metadata": {},
   "outputs": [],
   "source": [
    "#Merging The mean and max - will give side by side comparison of region having highest claims\n",
    "Medicare_in_merg = Medicare_in_rg.merge(Medicare_in_max,on='DRG Definition', how='left')"
   ]
  },
  {
   "cell_type": "code",
   "execution_count": 36,
   "metadata": {},
   "outputs": [
    {
     "data": {
      "text/html": [
       "<div>\n",
       "<style scoped>\n",
       "    .dataframe tbody tr th:only-of-type {\n",
       "        vertical-align: middle;\n",
       "    }\n",
       "\n",
       "    .dataframe tbody tr th {\n",
       "        vertical-align: top;\n",
       "    }\n",
       "\n",
       "    .dataframe thead th {\n",
       "        text-align: right;\n",
       "    }\n",
       "</style>\n",
       "<table border=\"1\" class=\"dataframe\">\n",
       "  <thead>\n",
       "    <tr style=\"text-align: right;\">\n",
       "      <th></th>\n",
       "      <th>DRG Definition</th>\n",
       "      <th>Hospital Referral Region (HRR) Description</th>\n",
       "      <th>Average Covered Charges_avg</th>\n",
       "      <th>Average Covered Charges_avg_max</th>\n",
       "    </tr>\n",
       "  </thead>\n",
       "  <tbody>\n",
       "    <tr>\n",
       "      <th>0</th>\n",
       "      <td>039 - EXTRACRANIAL PROCEDURES W/O CC/MCC</td>\n",
       "      <td>AK - Anchorage</td>\n",
       "      <td>34805.130430</td>\n",
       "      <td>105929.4706</td>\n",
       "    </tr>\n",
       "    <tr>\n",
       "      <th>1</th>\n",
       "      <td>039 - EXTRACRANIAL PROCEDURES W/O CC/MCC</td>\n",
       "      <td>AL - Birmingham</td>\n",
       "      <td>40237.361538</td>\n",
       "      <td>105929.4706</td>\n",
       "    </tr>\n",
       "    <tr>\n",
       "      <th>2</th>\n",
       "      <td>039 - EXTRACRANIAL PROCEDURES W/O CC/MCC</td>\n",
       "      <td>AL - Dothan</td>\n",
       "      <td>36285.182905</td>\n",
       "      <td>105929.4706</td>\n",
       "    </tr>\n",
       "  </tbody>\n",
       "</table>\n",
       "</div>"
      ],
      "text/plain": [
       "                             DRG Definition  \\\n",
       "0  039 - EXTRACRANIAL PROCEDURES W/O CC/MCC   \n",
       "1  039 - EXTRACRANIAL PROCEDURES W/O CC/MCC   \n",
       "2  039 - EXTRACRANIAL PROCEDURES W/O CC/MCC   \n",
       "\n",
       "  Hospital Referral Region (HRR) Description  Average Covered Charges_avg  \\\n",
       "0                             AK - Anchorage                 34805.130430   \n",
       "1                            AL - Birmingham                 40237.361538   \n",
       "2                                AL - Dothan                 36285.182905   \n",
       "\n",
       "   Average Covered Charges_avg_max  \n",
       "0                      105929.4706  \n",
       "1                      105929.4706  \n",
       "2                      105929.4706  "
      ]
     },
     "execution_count": 36,
     "metadata": {},
     "output_type": "execute_result"
    }
   ],
   "source": [
    "Medicare_in_merg.head(3)"
   ]
  },
  {
   "cell_type": "code",
   "execution_count": 86,
   "metadata": {},
   "outputs": [
    {
     "data": {
      "text/html": [
       "<div>\n",
       "<style scoped>\n",
       "    .dataframe tbody tr th:only-of-type {\n",
       "        vertical-align: middle;\n",
       "    }\n",
       "\n",
       "    .dataframe tbody tr th {\n",
       "        vertical-align: top;\n",
       "    }\n",
       "\n",
       "    .dataframe thead th {\n",
       "        text-align: right;\n",
       "    }\n",
       "</style>\n",
       "<table border=\"1\" class=\"dataframe\">\n",
       "  <thead>\n",
       "    <tr style=\"text-align: right;\">\n",
       "      <th></th>\n",
       "      <th>Hospital Referral Region (HRR) Description</th>\n",
       "      <th>Average Covered Charges_avg_count</th>\n",
       "    </tr>\n",
       "  </thead>\n",
       "  <tbody>\n",
       "    <tr>\n",
       "      <th>0</th>\n",
       "      <td>CA - Alameda County</td>\n",
       "      <td>1</td>\n",
       "    </tr>\n",
       "    <tr>\n",
       "      <th>1</th>\n",
       "      <td>CA - Contra Costa County</td>\n",
       "      <td>36</td>\n",
       "    </tr>\n",
       "    <tr>\n",
       "      <th>2</th>\n",
       "      <td>CA - Modesto</td>\n",
       "      <td>5</td>\n",
       "    </tr>\n",
       "    <tr>\n",
       "      <th>3</th>\n",
       "      <td>CA - Napa</td>\n",
       "      <td>2</td>\n",
       "    </tr>\n",
       "    <tr>\n",
       "      <th>4</th>\n",
       "      <td>CA - San Francisco</td>\n",
       "      <td>1</td>\n",
       "    </tr>\n",
       "    <tr>\n",
       "      <th>5</th>\n",
       "      <td>CA - San Jose</td>\n",
       "      <td>9</td>\n",
       "    </tr>\n",
       "    <tr>\n",
       "      <th>6</th>\n",
       "      <td>CA - San Luis Obispo</td>\n",
       "      <td>6</td>\n",
       "    </tr>\n",
       "    <tr>\n",
       "      <th>7</th>\n",
       "      <td>CA - San Mateo County</td>\n",
       "      <td>23</td>\n",
       "    </tr>\n",
       "    <tr>\n",
       "      <th>8</th>\n",
       "      <td>CA - Santa Cruz</td>\n",
       "      <td>9</td>\n",
       "    </tr>\n",
       "    <tr>\n",
       "      <th>9</th>\n",
       "      <td>CA - Santa Rosa</td>\n",
       "      <td>2</td>\n",
       "    </tr>\n",
       "    <tr>\n",
       "      <th>10</th>\n",
       "      <td>CA - Stockton</td>\n",
       "      <td>2</td>\n",
       "    </tr>\n",
       "    <tr>\n",
       "      <th>11</th>\n",
       "      <td>CA - Ventura</td>\n",
       "      <td>1</td>\n",
       "    </tr>\n",
       "    <tr>\n",
       "      <th>12</th>\n",
       "      <td>NJ - Newark</td>\n",
       "      <td>2</td>\n",
       "    </tr>\n",
       "    <tr>\n",
       "      <th>13</th>\n",
       "      <td>NV - Las Vegas</td>\n",
       "      <td>1</td>\n",
       "    </tr>\n",
       "  </tbody>\n",
       "</table>\n",
       "</div>"
      ],
      "text/plain": [
       "   Hospital Referral Region (HRR) Description  \\\n",
       "0                         CA - Alameda County   \n",
       "1                    CA - Contra Costa County   \n",
       "2                                CA - Modesto   \n",
       "3                                   CA - Napa   \n",
       "4                          CA - San Francisco   \n",
       "5                               CA - San Jose   \n",
       "6                        CA - San Luis Obispo   \n",
       "7                       CA - San Mateo County   \n",
       "8                             CA - Santa Cruz   \n",
       "9                             CA - Santa Rosa   \n",
       "10                              CA - Stockton   \n",
       "11                               CA - Ventura   \n",
       "12                                NJ - Newark   \n",
       "13                             NV - Las Vegas   \n",
       "\n",
       "    Average Covered Charges_avg_count  \n",
       "0                                   1  \n",
       "1                                  36  \n",
       "2                                   5  \n",
       "3                                   2  \n",
       "4                                   1  \n",
       "5                                   9  \n",
       "6                                   6  \n",
       "7                                  23  \n",
       "8                                   9  \n",
       "9                                   2  \n",
       "10                                  2  \n",
       "11                                  1  \n",
       "12                                  2  \n",
       "13                                  1  "
      ]
     },
     "execution_count": 86,
     "metadata": {},
     "output_type": "execute_result"
    }
   ],
   "source": [
    "temp1=Medicare_in_merg.loc[Medicare_in_merg['Average Covered Charges_avg']==Medicare_in_merg['Average Covered Charges_avg_max'],['Hospital Referral Region (HRR) Description','Average Covered Charges_avg']].groupby(['Hospital Referral Region (HRR) Description']).count().add_suffix('_count').reset_index()\n",
    "temp1.head()\n",
    "temp1"
   ]
  },
  {
   "cell_type": "markdown",
   "metadata": {},
   "source": [
    "#### FOR OutpatientAPC"
   ]
  },
  {
   "cell_type": "code",
   "execution_count": 56,
   "metadata": {},
   "outputs": [
    {
     "data": {
      "text/plain": [
       "Index(['APC', 'Provider Id', 'Provider Name', 'Provider Street Address',\n",
       "       'Provider City', 'Provider State', 'Provider Zip Code',\n",
       "       'Hospital Referral Region (HRR) Description', 'Outpatient Services',\n",
       "       'Average  Estimated Submitted Charges', 'Average Total Payments'],\n",
       "      dtype='object')"
      ]
     },
     "execution_count": 56,
     "metadata": {},
     "output_type": "execute_result"
    }
   ],
   "source": [
    "Medicare_Provider_Charge_Out.columns"
   ]
  },
  {
   "cell_type": "code",
   "execution_count": 58,
   "metadata": {},
   "outputs": [],
   "source": [
    "#Finding the mean of Average Covered Charges for Outpatient by APC and Region\n",
    "Medicare_out_rg = pd.DataFrame(Medicare_Provider_Charge_Out[['APC', 'Hospital Referral Region (HRR) Description', 'Average  Estimated Submitted Charges']].groupby(['APC', 'Hospital Referral Region (HRR) Description']).agg('mean').add_suffix('_avg')).reset_index()"
   ]
  },
  {
   "cell_type": "code",
   "execution_count": 59,
   "metadata": {},
   "outputs": [
    {
     "data": {
      "text/html": [
       "<div>\n",
       "<style scoped>\n",
       "    .dataframe tbody tr th:only-of-type {\n",
       "        vertical-align: middle;\n",
       "    }\n",
       "\n",
       "    .dataframe tbody tr th {\n",
       "        vertical-align: top;\n",
       "    }\n",
       "\n",
       "    .dataframe thead th {\n",
       "        text-align: right;\n",
       "    }\n",
       "</style>\n",
       "<table border=\"1\" class=\"dataframe\">\n",
       "  <thead>\n",
       "    <tr style=\"text-align: right;\">\n",
       "      <th></th>\n",
       "      <th>APC</th>\n",
       "      <th>Hospital Referral Region (HRR) Description</th>\n",
       "      <th>Average  Estimated Submitted Charges_avg</th>\n",
       "    </tr>\n",
       "  </thead>\n",
       "  <tbody>\n",
       "    <tr>\n",
       "      <th>0</th>\n",
       "      <td>0012 - Level I Debridement &amp; Destruction</td>\n",
       "      <td>AK - Anchorage</td>\n",
       "      <td>149.589749</td>\n",
       "    </tr>\n",
       "    <tr>\n",
       "      <th>1</th>\n",
       "      <td>0012 - Level I Debridement &amp; Destruction</td>\n",
       "      <td>AL - Birmingham</td>\n",
       "      <td>78.086957</td>\n",
       "    </tr>\n",
       "    <tr>\n",
       "      <th>2</th>\n",
       "      <td>0012 - Level I Debridement &amp; Destruction</td>\n",
       "      <td>AR - Fort Smith</td>\n",
       "      <td>80.102439</td>\n",
       "    </tr>\n",
       "    <tr>\n",
       "      <th>3</th>\n",
       "      <td>0012 - Level I Debridement &amp; Destruction</td>\n",
       "      <td>AR - Jonesboro</td>\n",
       "      <td>16.993333</td>\n",
       "    </tr>\n",
       "    <tr>\n",
       "      <th>4</th>\n",
       "      <td>0012 - Level I Debridement &amp; Destruction</td>\n",
       "      <td>AR - Little Rock</td>\n",
       "      <td>96.968863</td>\n",
       "    </tr>\n",
       "  </tbody>\n",
       "</table>\n",
       "</div>"
      ],
      "text/plain": [
       "                                        APC  \\\n",
       "0  0012 - Level I Debridement & Destruction   \n",
       "1  0012 - Level I Debridement & Destruction   \n",
       "2  0012 - Level I Debridement & Destruction   \n",
       "3  0012 - Level I Debridement & Destruction   \n",
       "4  0012 - Level I Debridement & Destruction   \n",
       "\n",
       "  Hospital Referral Region (HRR) Description  \\\n",
       "0                             AK - Anchorage   \n",
       "1                            AL - Birmingham   \n",
       "2                            AR - Fort Smith   \n",
       "3                             AR - Jonesboro   \n",
       "4                           AR - Little Rock   \n",
       "\n",
       "   Average  Estimated Submitted Charges_avg  \n",
       "0                                149.589749  \n",
       "1                                 78.086957  \n",
       "2                                 80.102439  \n",
       "3                                 16.993333  \n",
       "4                                 96.968863  "
      ]
     },
     "execution_count": 59,
     "metadata": {},
     "output_type": "execute_result"
    }
   ],
   "source": [
    "Medicare_out_rg.head()"
   ]
  },
  {
   "cell_type": "code",
   "execution_count": 61,
   "metadata": {},
   "outputs": [],
   "source": [
    "#Finding the max for Outpatient\n",
    "Medicare_out_max = pd.DataFrame(Medicare_out_rg[['APC', 'Average  Estimated Submitted Charges_avg']].groupby(['APC']).agg('max').add_suffix('_max')).reset_index()"
   ]
  },
  {
   "cell_type": "code",
   "execution_count": 62,
   "metadata": {},
   "outputs": [
    {
     "data": {
      "text/html": [
       "<div>\n",
       "<style scoped>\n",
       "    .dataframe tbody tr th:only-of-type {\n",
       "        vertical-align: middle;\n",
       "    }\n",
       "\n",
       "    .dataframe tbody tr th {\n",
       "        vertical-align: top;\n",
       "    }\n",
       "\n",
       "    .dataframe thead th {\n",
       "        text-align: right;\n",
       "    }\n",
       "</style>\n",
       "<table border=\"1\" class=\"dataframe\">\n",
       "  <thead>\n",
       "    <tr style=\"text-align: right;\">\n",
       "      <th></th>\n",
       "      <th>APC</th>\n",
       "      <th>Average  Estimated Submitted Charges_avg_max</th>\n",
       "    </tr>\n",
       "  </thead>\n",
       "  <tbody>\n",
       "    <tr>\n",
       "      <th>0</th>\n",
       "      <td>0012 - Level I Debridement &amp; Destruction</td>\n",
       "      <td>438.307045</td>\n",
       "    </tr>\n",
       "    <tr>\n",
       "      <th>1</th>\n",
       "      <td>0013 - Level II Debridement &amp; Destruction</td>\n",
       "      <td>1042.707451</td>\n",
       "    </tr>\n",
       "    <tr>\n",
       "      <th>2</th>\n",
       "      <td>0015 - Level III Debridement &amp; Destruction</td>\n",
       "      <td>1478.536545</td>\n",
       "    </tr>\n",
       "    <tr>\n",
       "      <th>3</th>\n",
       "      <td>0019 - Level I Excision/ Biopsy</td>\n",
       "      <td>15946.325655</td>\n",
       "    </tr>\n",
       "    <tr>\n",
       "      <th>4</th>\n",
       "      <td>0020 - Level II Excision/ Biopsy</td>\n",
       "      <td>15784.975000</td>\n",
       "    </tr>\n",
       "  </tbody>\n",
       "</table>\n",
       "</div>"
      ],
      "text/plain": [
       "                                          APC  \\\n",
       "0    0012 - Level I Debridement & Destruction   \n",
       "1   0013 - Level II Debridement & Destruction   \n",
       "2  0015 - Level III Debridement & Destruction   \n",
       "3             0019 - Level I Excision/ Biopsy   \n",
       "4            0020 - Level II Excision/ Biopsy   \n",
       "\n",
       "   Average  Estimated Submitted Charges_avg_max  \n",
       "0                                    438.307045  \n",
       "1                                   1042.707451  \n",
       "2                                   1478.536545  \n",
       "3                                  15946.325655  \n",
       "4                                  15784.975000  "
      ]
     },
     "execution_count": 62,
     "metadata": {},
     "output_type": "execute_result"
    }
   ],
   "source": [
    "Medicare_out_max.head()"
   ]
  },
  {
   "cell_type": "code",
   "execution_count": 64,
   "metadata": {},
   "outputs": [],
   "source": [
    "#Merging The mean and max - will give side by side comparison of region having highest claims\n",
    "Medicare_out_merg = Medicare_out_rg.merge(Medicare_out_max,on='APC', how='left')"
   ]
  },
  {
   "cell_type": "code",
   "execution_count": 73,
   "metadata": {},
   "outputs": [
    {
     "data": {
      "text/html": [
       "<div>\n",
       "<style scoped>\n",
       "    .dataframe tbody tr th:only-of-type {\n",
       "        vertical-align: middle;\n",
       "    }\n",
       "\n",
       "    .dataframe tbody tr th {\n",
       "        vertical-align: top;\n",
       "    }\n",
       "\n",
       "    .dataframe thead th {\n",
       "        text-align: right;\n",
       "    }\n",
       "</style>\n",
       "<table border=\"1\" class=\"dataframe\">\n",
       "  <thead>\n",
       "    <tr style=\"text-align: right;\">\n",
       "      <th></th>\n",
       "      <th>APC</th>\n",
       "      <th>Hospital Referral Region (HRR) Description</th>\n",
       "      <th>Average  Estimated Submitted Charges_avg</th>\n",
       "      <th>Average  Estimated Submitted Charges_avg_max</th>\n",
       "    </tr>\n",
       "  </thead>\n",
       "  <tbody>\n",
       "    <tr>\n",
       "      <th>0</th>\n",
       "      <td>0012 - Level I Debridement &amp; Destruction</td>\n",
       "      <td>AK - Anchorage</td>\n",
       "      <td>149.589749</td>\n",
       "      <td>438.307045</td>\n",
       "    </tr>\n",
       "    <tr>\n",
       "      <th>1</th>\n",
       "      <td>0012 - Level I Debridement &amp; Destruction</td>\n",
       "      <td>AL - Birmingham</td>\n",
       "      <td>78.086957</td>\n",
       "      <td>438.307045</td>\n",
       "    </tr>\n",
       "    <tr>\n",
       "      <th>2</th>\n",
       "      <td>0012 - Level I Debridement &amp; Destruction</td>\n",
       "      <td>AR - Fort Smith</td>\n",
       "      <td>80.102439</td>\n",
       "      <td>438.307045</td>\n",
       "    </tr>\n",
       "  </tbody>\n",
       "</table>\n",
       "</div>"
      ],
      "text/plain": [
       "                                        APC  \\\n",
       "0  0012 - Level I Debridement & Destruction   \n",
       "1  0012 - Level I Debridement & Destruction   \n",
       "2  0012 - Level I Debridement & Destruction   \n",
       "\n",
       "  Hospital Referral Region (HRR) Description  \\\n",
       "0                             AK - Anchorage   \n",
       "1                            AL - Birmingham   \n",
       "2                            AR - Fort Smith   \n",
       "\n",
       "   Average  Estimated Submitted Charges_avg  \\\n",
       "0                                149.589749   \n",
       "1                                 78.086957   \n",
       "2                                 80.102439   \n",
       "\n",
       "   Average  Estimated Submitted Charges_avg_max  \n",
       "0                                    438.307045  \n",
       "1                                    438.307045  \n",
       "2                                    438.307045  "
      ]
     },
     "execution_count": 73,
     "metadata": {},
     "output_type": "execute_result"
    }
   ],
   "source": [
    "Medicare_out_merg.head(3)"
   ]
  },
  {
   "cell_type": "code",
   "execution_count": 75,
   "metadata": {},
   "outputs": [
    {
     "data": {
      "text/plain": [
       "Index(['APC', 'Hospital Referral Region (HRR) Description',\n",
       "       'Average  Estimated Submitted Charges_avg',\n",
       "       'Average  Estimated Submitted Charges_avg_max'],\n",
       "      dtype='object')"
      ]
     },
     "execution_count": 75,
     "metadata": {},
     "output_type": "execute_result"
    }
   ],
   "source": [
    "Medicare_out_merg.columns"
   ]
  },
  {
   "cell_type": "code",
   "execution_count": 92,
   "metadata": {},
   "outputs": [
    {
     "data": {
      "text/html": [
       "<div>\n",
       "<style scoped>\n",
       "    .dataframe tbody tr th:only-of-type {\n",
       "        vertical-align: middle;\n",
       "    }\n",
       "\n",
       "    .dataframe tbody tr th {\n",
       "        vertical-align: top;\n",
       "    }\n",
       "\n",
       "    .dataframe thead th {\n",
       "        text-align: right;\n",
       "    }\n",
       "</style>\n",
       "<table border=\"1\" class=\"dataframe\">\n",
       "  <thead>\n",
       "    <tr style=\"text-align: right;\">\n",
       "      <th></th>\n",
       "      <th>Hospital Referral Region (HRR) Description</th>\n",
       "      <th>Average  Estimated Submitted Charges_avg_count</th>\n",
       "    </tr>\n",
       "  </thead>\n",
       "  <tbody>\n",
       "    <tr>\n",
       "      <th>0</th>\n",
       "      <td>AL - Dothan</td>\n",
       "      <td>1</td>\n",
       "    </tr>\n",
       "    <tr>\n",
       "      <th>1</th>\n",
       "      <td>AL - Huntsville</td>\n",
       "      <td>1</td>\n",
       "    </tr>\n",
       "    <tr>\n",
       "      <th>2</th>\n",
       "      <td>CA - Los Angeles</td>\n",
       "      <td>2</td>\n",
       "    </tr>\n",
       "    <tr>\n",
       "      <th>3</th>\n",
       "      <td>CA - Modesto</td>\n",
       "      <td>1</td>\n",
       "    </tr>\n",
       "    <tr>\n",
       "      <th>4</th>\n",
       "      <td>CA - Redding</td>\n",
       "      <td>1</td>\n",
       "    </tr>\n",
       "  </tbody>\n",
       "</table>\n",
       "</div>"
      ],
      "text/plain": [
       "  Hospital Referral Region (HRR) Description  \\\n",
       "0                                AL - Dothan   \n",
       "1                            AL - Huntsville   \n",
       "2                           CA - Los Angeles   \n",
       "3                               CA - Modesto   \n",
       "4                               CA - Redding   \n",
       "\n",
       "   Average  Estimated Submitted Charges_avg_count  \n",
       "0                                               1  \n",
       "1                                               1  \n",
       "2                                               2  \n",
       "3                                               1  \n",
       "4                                               1  "
      ]
     },
     "execution_count": 92,
     "metadata": {},
     "output_type": "execute_result"
    }
   ],
   "source": [
    "temp2=Medicare_out_merg.loc[Medicare_out_merg['Average  Estimated Submitted Charges_avg']==Medicare_out_merg['Average  Estimated Submitted Charges_avg_max'],['Average  Estimated Submitted Charges_avg','Hospital Referral Region (HRR) Description']].groupby(['Hospital Referral Region (HRR) Description']).count().add_suffix('_count').reset_index()\n",
    "temp2.head()"
   ]
  },
  {
   "cell_type": "code",
   "execution_count": null,
   "metadata": {},
   "outputs": [],
   "source": [
    "temp3['Hospital Referral Region (HRR) Description'].sort_values(by=['sum'],ascending=False).head(3)\n"
   ]
  },
  {
   "cell_type": "code",
   "execution_count": 105,
   "metadata": {},
   "outputs": [
    {
     "name": "stdout",
     "output_type": "stream",
     "text": [
      "<class 'pandas.core.frame.DataFrame'>\n",
      "Int64Index: 31 entries, 0 to 30\n",
      "Data columns (total 3 columns):\n",
      "Hospital Referral Region (HRR) Description        31 non-null object\n",
      "Average Covered Charges_avg_count                 31 non-null float64\n",
      "Average  Estimated Submitted Charges_avg_count    31 non-null float64\n",
      "dtypes: float64(2), object(1)\n",
      "memory usage: 992.0+ bytes\n"
     ]
    }
   ],
   "source": [
    "temp3=pd.merge(temp1,temp2,how='outer').fillna(0)\n",
    "temp3.info()"
   ]
  },
  {
   "cell_type": "code",
   "execution_count": 115,
   "metadata": {},
   "outputs": [
    {
     "data": {
      "text/html": [
       "<div>\n",
       "<style scoped>\n",
       "    .dataframe tbody tr th:only-of-type {\n",
       "        vertical-align: middle;\n",
       "    }\n",
       "\n",
       "    .dataframe tbody tr th {\n",
       "        vertical-align: top;\n",
       "    }\n",
       "\n",
       "    .dataframe thead th {\n",
       "        text-align: right;\n",
       "    }\n",
       "</style>\n",
       "<table border=\"1\" class=\"dataframe\">\n",
       "  <thead>\n",
       "    <tr style=\"text-align: right;\">\n",
       "      <th></th>\n",
       "      <th>Hospital Referral Region (HRR) Description</th>\n",
       "      <th>sum</th>\n",
       "    </tr>\n",
       "  </thead>\n",
       "  <tbody>\n",
       "    <tr>\n",
       "      <th>1</th>\n",
       "      <td>CA - Contra Costa County</td>\n",
       "      <td>36.0</td>\n",
       "    </tr>\n",
       "    <tr>\n",
       "      <th>7</th>\n",
       "      <td>CA - San Mateo County</td>\n",
       "      <td>24.0</td>\n",
       "    </tr>\n",
       "    <tr>\n",
       "      <th>8</th>\n",
       "      <td>CA - Santa Cruz</td>\n",
       "      <td>11.0</td>\n",
       "    </tr>\n",
       "  </tbody>\n",
       "</table>\n",
       "</div>"
      ],
      "text/plain": [
       "  Hospital Referral Region (HRR) Description   sum\n",
       "1                   CA - Contra Costa County  36.0\n",
       "7                      CA - San Mateo County  24.0\n",
       "8                            CA - Santa Cruz  11.0"
      ]
     },
     "execution_count": 115,
     "metadata": {},
     "output_type": "execute_result"
    }
   ],
   "source": [
    "# combining both in patient and outpaitent  highest claims by region\n",
    "temp3['sum']=temp3['Average Covered Charges_avg_count']+temp3['Average  Estimated Submitted Charges_avg_count']\n",
    "\n",
    "temp3.sort_values(by=['sum'],ascending=False)[['Hospital Referral Region (HRR) Description','sum']].head(3)"
   ]
  },
  {
   "cell_type": "markdown",
   "metadata": {},
   "source": [
    "###  PART1D - Largest claim difference for the largest number of procedures by providers"
   ]
  },
  {
   "cell_type": "markdown",
   "metadata": {},
   "source": [
    "    We see largest claim difference for highest number of procedures for InpatientDGR for the follwing providers -\n",
    "    \n",
    "    BAYONNE HOSPITAL CENTER, NJ          29\n",
    "    CROZER CHESTER MEDICAL CENTER, PA    12\n",
    "    HAHNEMANN UNIVERSITY HOSPITAL, PA     8"
   ]
  },
  {
   "cell_type": "markdown",
   "metadata": {},
   "source": [
    "#### InpatientDRG"
   ]
  },
  {
   "cell_type": "markdown",
   "metadata": {},
   "source": [
    "    Considering -\n",
    "    Average Covered Charges as Claims\n",
    "    Average Total Payments as Reimbursement"
   ]
  },
  {
   "cell_type": "code",
   "execution_count": 116,
   "metadata": {},
   "outputs": [
    {
     "data": {
      "text/html": [
       "<div>\n",
       "<style scoped>\n",
       "    .dataframe tbody tr th:only-of-type {\n",
       "        vertical-align: middle;\n",
       "    }\n",
       "\n",
       "    .dataframe tbody tr th {\n",
       "        vertical-align: top;\n",
       "    }\n",
       "\n",
       "    .dataframe thead th {\n",
       "        text-align: right;\n",
       "    }\n",
       "</style>\n",
       "<table border=\"1\" class=\"dataframe\">\n",
       "  <thead>\n",
       "    <tr style=\"text-align: right;\">\n",
       "      <th></th>\n",
       "      <th>DRG Definition</th>\n",
       "      <th>Provider Id</th>\n",
       "      <th>Provider Name</th>\n",
       "      <th>Provider Street Address</th>\n",
       "      <th>Provider City</th>\n",
       "      <th>Provider State</th>\n",
       "      <th>Provider Zip Code</th>\n",
       "      <th>Hospital Referral Region (HRR) Description</th>\n",
       "      <th>Total Discharges</th>\n",
       "      <th>Average Covered Charges</th>\n",
       "      <th>Average Total Payments</th>\n",
       "      <th>Average Medicare Payments</th>\n",
       "    </tr>\n",
       "  </thead>\n",
       "  <tbody>\n",
       "    <tr>\n",
       "      <th>0</th>\n",
       "      <td>039 - EXTRACRANIAL PROCEDURES W/O CC/MCC</td>\n",
       "      <td>10001</td>\n",
       "      <td>SOUTHEAST ALABAMA MEDICAL CENTER</td>\n",
       "      <td>1108 ROSS CLARK CIRCLE</td>\n",
       "      <td>DOTHAN</td>\n",
       "      <td>AL</td>\n",
       "      <td>36301</td>\n",
       "      <td>AL - Dothan</td>\n",
       "      <td>91</td>\n",
       "      <td>32963.07692</td>\n",
       "      <td>5777.241758</td>\n",
       "      <td>4763.736264</td>\n",
       "    </tr>\n",
       "    <tr>\n",
       "      <th>1</th>\n",
       "      <td>039 - EXTRACRANIAL PROCEDURES W/O CC/MCC</td>\n",
       "      <td>10005</td>\n",
       "      <td>MARSHALL MEDICAL CENTER SOUTH</td>\n",
       "      <td>2505 U S HIGHWAY 431 NORTH</td>\n",
       "      <td>BOAZ</td>\n",
       "      <td>AL</td>\n",
       "      <td>35957</td>\n",
       "      <td>AL - Birmingham</td>\n",
       "      <td>14</td>\n",
       "      <td>15131.85714</td>\n",
       "      <td>5787.571429</td>\n",
       "      <td>4976.714286</td>\n",
       "    </tr>\n",
       "    <tr>\n",
       "      <th>2</th>\n",
       "      <td>039 - EXTRACRANIAL PROCEDURES W/O CC/MCC</td>\n",
       "      <td>10006</td>\n",
       "      <td>ELIZA COFFEE MEMORIAL HOSPITAL</td>\n",
       "      <td>205 MARENGO STREET</td>\n",
       "      <td>FLORENCE</td>\n",
       "      <td>AL</td>\n",
       "      <td>35631</td>\n",
       "      <td>AL - Birmingham</td>\n",
       "      <td>24</td>\n",
       "      <td>37560.37500</td>\n",
       "      <td>5434.958333</td>\n",
       "      <td>4453.791667</td>\n",
       "    </tr>\n",
       "  </tbody>\n",
       "</table>\n",
       "</div>"
      ],
      "text/plain": [
       "                             DRG Definition  Provider Id  \\\n",
       "0  039 - EXTRACRANIAL PROCEDURES W/O CC/MCC        10001   \n",
       "1  039 - EXTRACRANIAL PROCEDURES W/O CC/MCC        10005   \n",
       "2  039 - EXTRACRANIAL PROCEDURES W/O CC/MCC        10006   \n",
       "\n",
       "                      Provider Name     Provider Street Address Provider City  \\\n",
       "0  SOUTHEAST ALABAMA MEDICAL CENTER      1108 ROSS CLARK CIRCLE        DOTHAN   \n",
       "1     MARSHALL MEDICAL CENTER SOUTH  2505 U S HIGHWAY 431 NORTH          BOAZ   \n",
       "2    ELIZA COFFEE MEMORIAL HOSPITAL          205 MARENGO STREET      FLORENCE   \n",
       "\n",
       "  Provider State  Provider Zip Code  \\\n",
       "0             AL              36301   \n",
       "1             AL              35957   \n",
       "2             AL              35631   \n",
       "\n",
       "  Hospital Referral Region (HRR) Description  Total Discharges  \\\n",
       "0                                AL - Dothan                91   \n",
       "1                            AL - Birmingham                14   \n",
       "2                            AL - Birmingham                24   \n",
       "\n",
       "   Average Covered Charges  Average Total Payments  Average Medicare Payments  \n",
       "0              32963.07692             5777.241758                4763.736264  \n",
       "1              15131.85714             5787.571429                4976.714286  \n",
       "2              37560.37500             5434.958333                4453.791667  "
      ]
     },
     "execution_count": 116,
     "metadata": {},
     "output_type": "execute_result"
    }
   ],
   "source": [
    "Medicare_Provider_Charge_In.head(3)"
   ]
  },
  {
   "cell_type": "code",
   "execution_count": 118,
   "metadata": {},
   "outputs": [],
   "source": [
    "Medicare_in_drg = Medicare_Provider_Charge_In[['DRG Definition', 'Provider Name','Average Total Payments', 'Average Covered Charges' ]]"
   ]
  },
  {
   "cell_type": "code",
   "execution_count": 119,
   "metadata": {},
   "outputs": [
    {
     "name": "stderr",
     "output_type": "stream",
     "text": [
      "C:\\Users\\arnav\\Anaconda3\\lib\\site-packages\\ipykernel_launcher.py:2: SettingWithCopyWarning: \n",
      "A value is trying to be set on a copy of a slice from a DataFrame.\n",
      "Try using .loc[row_indexer,col_indexer] = value instead\n",
      "\n",
      "See the caveats in the documentation: http://pandas.pydata.org/pandas-docs/stable/indexing.html#indexing-view-versus-copy\n",
      "  \n"
     ]
    }
   ],
   "source": [
    "#Difference of claim and reimbursement\n",
    "Medicare_in_drg['CLAIM_DIFF'] = Medicare_in_drg.apply(lambda x: x['Average Covered Charges'] - x['Average Total Payments'],axis =1)"
   ]
  },
  {
   "cell_type": "code",
   "execution_count": 121,
   "metadata": {},
   "outputs": [
    {
     "data": {
      "text/html": [
       "<div>\n",
       "<style scoped>\n",
       "    .dataframe tbody tr th:only-of-type {\n",
       "        vertical-align: middle;\n",
       "    }\n",
       "\n",
       "    .dataframe tbody tr th {\n",
       "        vertical-align: top;\n",
       "    }\n",
       "\n",
       "    .dataframe thead th {\n",
       "        text-align: right;\n",
       "    }\n",
       "</style>\n",
       "<table border=\"1\" class=\"dataframe\">\n",
       "  <thead>\n",
       "    <tr style=\"text-align: right;\">\n",
       "      <th></th>\n",
       "      <th>DRG Definition</th>\n",
       "      <th>Provider Name</th>\n",
       "      <th>Average Total Payments</th>\n",
       "      <th>Average Covered Charges</th>\n",
       "      <th>CLAIM_DIFF</th>\n",
       "    </tr>\n",
       "  </thead>\n",
       "  <tbody>\n",
       "    <tr>\n",
       "      <th>0</th>\n",
       "      <td>039 - EXTRACRANIAL PROCEDURES W/O CC/MCC</td>\n",
       "      <td>SOUTHEAST ALABAMA MEDICAL CENTER</td>\n",
       "      <td>5777.241758</td>\n",
       "      <td>32963.07692</td>\n",
       "      <td>27185.835162</td>\n",
       "    </tr>\n",
       "    <tr>\n",
       "      <th>1</th>\n",
       "      <td>039 - EXTRACRANIAL PROCEDURES W/O CC/MCC</td>\n",
       "      <td>MARSHALL MEDICAL CENTER SOUTH</td>\n",
       "      <td>5787.571429</td>\n",
       "      <td>15131.85714</td>\n",
       "      <td>9344.285711</td>\n",
       "    </tr>\n",
       "  </tbody>\n",
       "</table>\n",
       "</div>"
      ],
      "text/plain": [
       "                             DRG Definition                     Provider Name  \\\n",
       "0  039 - EXTRACRANIAL PROCEDURES W/O CC/MCC  SOUTHEAST ALABAMA MEDICAL CENTER   \n",
       "1  039 - EXTRACRANIAL PROCEDURES W/O CC/MCC     MARSHALL MEDICAL CENTER SOUTH   \n",
       "\n",
       "   Average Total Payments  Average Covered Charges    CLAIM_DIFF  \n",
       "0             5777.241758              32963.07692  27185.835162  \n",
       "1             5787.571429              15131.85714   9344.285711  "
      ]
     },
     "execution_count": 121,
     "metadata": {},
     "output_type": "execute_result"
    }
   ],
   "source": [
    "Medicare_in_drg.head(2)"
   ]
  },
  {
   "cell_type": "code",
   "execution_count": 122,
   "metadata": {},
   "outputs": [],
   "source": [
    "#Finding the mean of Average Covered Charges for InpatientDRG by DRG Defination and Provider\n",
    "Medicare_in_ag = pd.DataFrame(Medicare_in_drg[['DRG Definition', 'Provider Name', 'CLAIM_DIFF']].groupby(['DRG Definition', 'Provider Name']).agg('mean').add_suffix('_avg')).reset_index()"
   ]
  },
  {
   "cell_type": "code",
   "execution_count": 123,
   "metadata": {},
   "outputs": [
    {
     "data": {
      "text/html": [
       "<div>\n",
       "<style scoped>\n",
       "    .dataframe tbody tr th:only-of-type {\n",
       "        vertical-align: middle;\n",
       "    }\n",
       "\n",
       "    .dataframe tbody tr th {\n",
       "        vertical-align: top;\n",
       "    }\n",
       "\n",
       "    .dataframe thead th {\n",
       "        text-align: right;\n",
       "    }\n",
       "</style>\n",
       "<table border=\"1\" class=\"dataframe\">\n",
       "  <thead>\n",
       "    <tr style=\"text-align: right;\">\n",
       "      <th></th>\n",
       "      <th>DRG Definition</th>\n",
       "      <th>Provider Name</th>\n",
       "      <th>CLAIM_DIFF_avg</th>\n",
       "    </tr>\n",
       "  </thead>\n",
       "  <tbody>\n",
       "    <tr>\n",
       "      <th>0</th>\n",
       "      <td>039 - EXTRACRANIAL PROCEDURES W/O CC/MCC</td>\n",
       "      <td>ABBOTT NORTHWESTERN HOSPITAL</td>\n",
       "      <td>27026.166671</td>\n",
       "    </tr>\n",
       "    <tr>\n",
       "      <th>1</th>\n",
       "      <td>039 - EXTRACRANIAL PROCEDURES W/O CC/MCC</td>\n",
       "      <td>ABILENE REGIONAL MEDICAL CENTER</td>\n",
       "      <td>29293.857146</td>\n",
       "    </tr>\n",
       "    <tr>\n",
       "      <th>2</th>\n",
       "      <td>039 - EXTRACRANIAL PROCEDURES W/O CC/MCC</td>\n",
       "      <td>ABINGTON MEMORIAL HOSPITAL</td>\n",
       "      <td>33207.235299</td>\n",
       "    </tr>\n",
       "  </tbody>\n",
       "</table>\n",
       "</div>"
      ],
      "text/plain": [
       "                             DRG Definition                    Provider Name  \\\n",
       "0  039 - EXTRACRANIAL PROCEDURES W/O CC/MCC     ABBOTT NORTHWESTERN HOSPITAL   \n",
       "1  039 - EXTRACRANIAL PROCEDURES W/O CC/MCC  ABILENE REGIONAL MEDICAL CENTER   \n",
       "2  039 - EXTRACRANIAL PROCEDURES W/O CC/MCC       ABINGTON MEMORIAL HOSPITAL   \n",
       "\n",
       "   CLAIM_DIFF_avg  \n",
       "0    27026.166671  \n",
       "1    29293.857146  \n",
       "2    33207.235299  "
      ]
     },
     "execution_count": 123,
     "metadata": {},
     "output_type": "execute_result"
    }
   ],
   "source": [
    "Medicare_in_ag.head(3)"
   ]
  },
  {
   "cell_type": "code",
   "execution_count": 128,
   "metadata": {},
   "outputs": [],
   "source": [
    "#Finding the max for InpatientDRG DRG Definition\n",
    "Medicare_in_max = pd.DataFrame(Medicare_in_ag[['DRG Definition', 'CLAIM_DIFF_avg']].groupby(['DRG Definition']).agg('max').add_suffix('_max'))"
   ]
  },
  {
   "cell_type": "code",
   "execution_count": 129,
   "metadata": {},
   "outputs": [
    {
     "data": {
      "text/html": [
       "<div>\n",
       "<style scoped>\n",
       "    .dataframe tbody tr th:only-of-type {\n",
       "        vertical-align: middle;\n",
       "    }\n",
       "\n",
       "    .dataframe tbody tr th {\n",
       "        vertical-align: top;\n",
       "    }\n",
       "\n",
       "    .dataframe thead th {\n",
       "        text-align: right;\n",
       "    }\n",
       "</style>\n",
       "<table border=\"1\" class=\"dataframe\">\n",
       "  <thead>\n",
       "    <tr style=\"text-align: right;\">\n",
       "      <th></th>\n",
       "      <th>CLAIM_DIFF_avg_max</th>\n",
       "    </tr>\n",
       "    <tr>\n",
       "      <th>DRG Definition</th>\n",
       "      <th></th>\n",
       "    </tr>\n",
       "  </thead>\n",
       "  <tbody>\n",
       "    <tr>\n",
       "      <th>039 - EXTRACRANIAL PROCEDURES W/O CC/MCC</th>\n",
       "      <td>135377.61538</td>\n",
       "    </tr>\n",
       "    <tr>\n",
       "      <th>057 - DEGENERATIVE NERVOUS SYSTEM DISORDERS W/O MCC</th>\n",
       "      <td>122609.00000</td>\n",
       "    </tr>\n",
       "    <tr>\n",
       "      <th>064 - INTRACRANIAL HEMORRHAGE OR CEREBRAL INFARCTION W MCC</th>\n",
       "      <td>214346.92103</td>\n",
       "    </tr>\n",
       "    <tr>\n",
       "      <th>065 - INTRACRANIAL HEMORRHAGE OR CEREBRAL INFARCTION W CC</th>\n",
       "      <td>144842.08333</td>\n",
       "    </tr>\n",
       "    <tr>\n",
       "      <th>066 - INTRACRANIAL HEMORRHAGE OR CEREBRAL INFARCTION W/O CC/MCC</th>\n",
       "      <td>109535.14290</td>\n",
       "    </tr>\n",
       "  </tbody>\n",
       "</table>\n",
       "</div>"
      ],
      "text/plain": [
       "                                                    CLAIM_DIFF_avg_max\n",
       "DRG Definition                                                        \n",
       "039 - EXTRACRANIAL PROCEDURES W/O CC/MCC                  135377.61538\n",
       "057 - DEGENERATIVE NERVOUS SYSTEM DISORDERS W/O...        122609.00000\n",
       "064 - INTRACRANIAL HEMORRHAGE OR CEREBRAL INFAR...        214346.92103\n",
       "065 - INTRACRANIAL HEMORRHAGE OR CEREBRAL INFAR...        144842.08333\n",
       "066 - INTRACRANIAL HEMORRHAGE OR CEREBRAL INFAR...        109535.14290"
      ]
     },
     "execution_count": 129,
     "metadata": {},
     "output_type": "execute_result"
    }
   ],
   "source": [
    "Medicare_in_max.head()"
   ]
  },
  {
   "cell_type": "code",
   "execution_count": 130,
   "metadata": {},
   "outputs": [],
   "source": [
    "#Merging The mean and max - will give side by side comparison of providers having highest claim difference\n",
    "Medicare_in_merg = Medicare_in_ag.merge(Medicare_in_max,on='DRG Definition', how='left').reset_index()"
   ]
  },
  {
   "cell_type": "code",
   "execution_count": 131,
   "metadata": {},
   "outputs": [
    {
     "data": {
      "text/html": [
       "<div>\n",
       "<style scoped>\n",
       "    .dataframe tbody tr th:only-of-type {\n",
       "        vertical-align: middle;\n",
       "    }\n",
       "\n",
       "    .dataframe tbody tr th {\n",
       "        vertical-align: top;\n",
       "    }\n",
       "\n",
       "    .dataframe thead th {\n",
       "        text-align: right;\n",
       "    }\n",
       "</style>\n",
       "<table border=\"1\" class=\"dataframe\">\n",
       "  <thead>\n",
       "    <tr style=\"text-align: right;\">\n",
       "      <th></th>\n",
       "      <th>index</th>\n",
       "      <th>DRG Definition</th>\n",
       "      <th>Provider Name</th>\n",
       "      <th>CLAIM_DIFF_avg</th>\n",
       "      <th>CLAIM_DIFF_avg_max</th>\n",
       "    </tr>\n",
       "  </thead>\n",
       "  <tbody>\n",
       "    <tr>\n",
       "      <th>0</th>\n",
       "      <td>0</td>\n",
       "      <td>039 - EXTRACRANIAL PROCEDURES W/O CC/MCC</td>\n",
       "      <td>ABBOTT NORTHWESTERN HOSPITAL</td>\n",
       "      <td>27026.166671</td>\n",
       "      <td>135377.61538</td>\n",
       "    </tr>\n",
       "    <tr>\n",
       "      <th>1</th>\n",
       "      <td>1</td>\n",
       "      <td>039 - EXTRACRANIAL PROCEDURES W/O CC/MCC</td>\n",
       "      <td>ABILENE REGIONAL MEDICAL CENTER</td>\n",
       "      <td>29293.857146</td>\n",
       "      <td>135377.61538</td>\n",
       "    </tr>\n",
       "    <tr>\n",
       "      <th>2</th>\n",
       "      <td>2</td>\n",
       "      <td>039 - EXTRACRANIAL PROCEDURES W/O CC/MCC</td>\n",
       "      <td>ABINGTON MEMORIAL HOSPITAL</td>\n",
       "      <td>33207.235299</td>\n",
       "      <td>135377.61538</td>\n",
       "    </tr>\n",
       "    <tr>\n",
       "      <th>3</th>\n",
       "      <td>3</td>\n",
       "      <td>039 - EXTRACRANIAL PROCEDURES W/O CC/MCC</td>\n",
       "      <td>ADENA REGIONAL MEDICAL CENTER</td>\n",
       "      <td>16247.499998</td>\n",
       "      <td>135377.61538</td>\n",
       "    </tr>\n",
       "    <tr>\n",
       "      <th>4</th>\n",
       "      <td>4</td>\n",
       "      <td>039 - EXTRACRANIAL PROCEDURES W/O CC/MCC</td>\n",
       "      <td>ADVENTIST LA GRANGE MEMORIAL HOSPITAL</td>\n",
       "      <td>30415.357141</td>\n",
       "      <td>135377.61538</td>\n",
       "    </tr>\n",
       "  </tbody>\n",
       "</table>\n",
       "</div>"
      ],
      "text/plain": [
       "   index                            DRG Definition  \\\n",
       "0      0  039 - EXTRACRANIAL PROCEDURES W/O CC/MCC   \n",
       "1      1  039 - EXTRACRANIAL PROCEDURES W/O CC/MCC   \n",
       "2      2  039 - EXTRACRANIAL PROCEDURES W/O CC/MCC   \n",
       "3      3  039 - EXTRACRANIAL PROCEDURES W/O CC/MCC   \n",
       "4      4  039 - EXTRACRANIAL PROCEDURES W/O CC/MCC   \n",
       "\n",
       "                           Provider Name  CLAIM_DIFF_avg  CLAIM_DIFF_avg_max  \n",
       "0           ABBOTT NORTHWESTERN HOSPITAL    27026.166671        135377.61538  \n",
       "1        ABILENE REGIONAL MEDICAL CENTER    29293.857146        135377.61538  \n",
       "2             ABINGTON MEMORIAL HOSPITAL    33207.235299        135377.61538  \n",
       "3          ADENA REGIONAL MEDICAL CENTER    16247.499998        135377.61538  \n",
       "4  ADVENTIST LA GRANGE MEMORIAL HOSPITAL    30415.357141        135377.61538  "
      ]
     },
     "execution_count": 131,
     "metadata": {},
     "output_type": "execute_result"
    }
   ],
   "source": [
    "Medicare_in_merg.head()"
   ]
  },
  {
   "cell_type": "code",
   "execution_count": 132,
   "metadata": {},
   "outputs": [],
   "source": [
    "temp5=Medicare_in_merg.loc[Medicare_in_merg['CLAIM_DIFF_avg']>=Medicare_in_merg['CLAIM_DIFF_avg_max'],]"
   ]
  },
  {
   "cell_type": "code",
   "execution_count": 137,
   "metadata": {},
   "outputs": [
    {
     "data": {
      "text/html": [
       "<div>\n",
       "<style scoped>\n",
       "    .dataframe tbody tr th:only-of-type {\n",
       "        vertical-align: middle;\n",
       "    }\n",
       "\n",
       "    .dataframe tbody tr th {\n",
       "        vertical-align: top;\n",
       "    }\n",
       "\n",
       "    .dataframe thead th {\n",
       "        text-align: right;\n",
       "    }\n",
       "</style>\n",
       "<table border=\"1\" class=\"dataframe\">\n",
       "  <thead>\n",
       "    <tr style=\"text-align: right;\">\n",
       "      <th></th>\n",
       "      <th>Provider Name</th>\n",
       "      <th>CLAIM_DIFF_avg_count</th>\n",
       "    </tr>\n",
       "  </thead>\n",
       "  <tbody>\n",
       "    <tr>\n",
       "      <th>0</th>\n",
       "      <td>BAYONNE HOSPITAL CENTER</td>\n",
       "      <td>29</td>\n",
       "    </tr>\n",
       "    <tr>\n",
       "      <th>4</th>\n",
       "      <td>CROZER CHESTER MEDICAL CENTER</td>\n",
       "      <td>12</td>\n",
       "    </tr>\n",
       "    <tr>\n",
       "      <th>8</th>\n",
       "      <td>HAHNEMANN UNIVERSITY HOSPITAL</td>\n",
       "      <td>8</td>\n",
       "    </tr>\n",
       "  </tbody>\n",
       "</table>\n",
       "</div>"
      ],
      "text/plain": [
       "                   Provider Name  CLAIM_DIFF_avg_count\n",
       "0        BAYONNE HOSPITAL CENTER                    29\n",
       "4  CROZER CHESTER MEDICAL CENTER                    12\n",
       "8  HAHNEMANN UNIVERSITY HOSPITAL                     8"
      ]
     },
     "execution_count": 137,
     "metadata": {},
     "output_type": "execute_result"
    }
   ],
   "source": [
    "##getting number of times a provider has max claim diff for max procudures\n",
    "temp5[['Provider Name','CLAIM_DIFF_avg']].groupby('Provider Name').count().add_suffix('_count').reset_index().sort_values(by=['CLAIM_DIFF_avg_count'],ascending=False).head(3)"
   ]
  },
  {
   "cell_type": "markdown",
   "metadata": {},
   "source": [
    "#### OutPatientsAPC"
   ]
  },
  {
   "cell_type": "markdown",
   "metadata": {},
   "source": [
    "    Considering -\n",
    "    Average Estimated Submitted Charges as Claims\n",
    "    Average Total Payments as Reimbursement"
   ]
  },
  {
   "cell_type": "code",
   "execution_count": 138,
   "metadata": {},
   "outputs": [
    {
     "data": {
      "text/html": [
       "<div>\n",
       "<style scoped>\n",
       "    .dataframe tbody tr th:only-of-type {\n",
       "        vertical-align: middle;\n",
       "    }\n",
       "\n",
       "    .dataframe tbody tr th {\n",
       "        vertical-align: top;\n",
       "    }\n",
       "\n",
       "    .dataframe thead th {\n",
       "        text-align: right;\n",
       "    }\n",
       "</style>\n",
       "<table border=\"1\" class=\"dataframe\">\n",
       "  <thead>\n",
       "    <tr style=\"text-align: right;\">\n",
       "      <th></th>\n",
       "      <th>APC</th>\n",
       "      <th>Provider Id</th>\n",
       "      <th>Provider Name</th>\n",
       "      <th>Provider Street Address</th>\n",
       "      <th>Provider City</th>\n",
       "      <th>Provider State</th>\n",
       "      <th>Provider Zip Code</th>\n",
       "      <th>Hospital Referral Region (HRR) Description</th>\n",
       "      <th>Outpatient Services</th>\n",
       "      <th>Average  Estimated Submitted Charges</th>\n",
       "      <th>Average Total Payments</th>\n",
       "    </tr>\n",
       "  </thead>\n",
       "  <tbody>\n",
       "    <tr>\n",
       "      <th>0</th>\n",
       "      <td>0012 - Level I Debridement &amp; Destruction</td>\n",
       "      <td>10029</td>\n",
       "      <td>EAST ALABAMA MEDICAL CENTER AND SNF</td>\n",
       "      <td>2000 PEPPERELL PARKWAY</td>\n",
       "      <td>OPELIKA</td>\n",
       "      <td>AL</td>\n",
       "      <td>36801</td>\n",
       "      <td>AL - Birmingham</td>\n",
       "      <td>23</td>\n",
       "      <td>78.086957</td>\n",
       "      <td>21.910435</td>\n",
       "    </tr>\n",
       "    <tr>\n",
       "      <th>1</th>\n",
       "      <td>0012 - Level I Debridement &amp; Destruction</td>\n",
       "      <td>20024</td>\n",
       "      <td>CENTRAL PENINSULA GENERAL HOSPITAL</td>\n",
       "      <td>250 HOSPITAL PLACE</td>\n",
       "      <td>SOLDOTNA</td>\n",
       "      <td>AK</td>\n",
       "      <td>99669</td>\n",
       "      <td>AK - Anchorage</td>\n",
       "      <td>994</td>\n",
       "      <td>149.589749</td>\n",
       "      <td>36.623853</td>\n",
       "    </tr>\n",
       "    <tr>\n",
       "      <th>2</th>\n",
       "      <td>0012 - Level I Debridement &amp; Destruction</td>\n",
       "      <td>30064</td>\n",
       "      <td>UNIVERSITY OF ARIZONA MEDICAL CTR-UNIVERSIT, THE</td>\n",
       "      <td>1501 NORTH CAMPBELL AVENUE</td>\n",
       "      <td>TUCSON</td>\n",
       "      <td>AZ</td>\n",
       "      <td>85724</td>\n",
       "      <td>AZ - Tucson</td>\n",
       "      <td>1765</td>\n",
       "      <td>50.135411</td>\n",
       "      <td>14.541841</td>\n",
       "    </tr>\n",
       "  </tbody>\n",
       "</table>\n",
       "</div>"
      ],
      "text/plain": [
       "                                        APC  Provider Id  \\\n",
       "0  0012 - Level I Debridement & Destruction        10029   \n",
       "1  0012 - Level I Debridement & Destruction        20024   \n",
       "2  0012 - Level I Debridement & Destruction        30064   \n",
       "\n",
       "                                      Provider Name  \\\n",
       "0               EAST ALABAMA MEDICAL CENTER AND SNF   \n",
       "1                CENTRAL PENINSULA GENERAL HOSPITAL   \n",
       "2  UNIVERSITY OF ARIZONA MEDICAL CTR-UNIVERSIT, THE   \n",
       "\n",
       "      Provider Street Address Provider City Provider State  Provider Zip Code  \\\n",
       "0      2000 PEPPERELL PARKWAY       OPELIKA             AL              36801   \n",
       "1          250 HOSPITAL PLACE      SOLDOTNA             AK              99669   \n",
       "2  1501 NORTH CAMPBELL AVENUE        TUCSON             AZ              85724   \n",
       "\n",
       "  Hospital Referral Region (HRR) Description  Outpatient Services  \\\n",
       "0                            AL - Birmingham                   23   \n",
       "1                             AK - Anchorage                  994   \n",
       "2                                AZ - Tucson                 1765   \n",
       "\n",
       "   Average  Estimated Submitted Charges  Average Total Payments  \n",
       "0                             78.086957               21.910435  \n",
       "1                            149.589749               36.623853  \n",
       "2                             50.135411               14.541841  "
      ]
     },
     "execution_count": 138,
     "metadata": {},
     "output_type": "execute_result"
    }
   ],
   "source": [
    "Medicare_Provider_Charge_Out.head(3)"
   ]
  },
  {
   "cell_type": "code",
   "execution_count": 139,
   "metadata": {},
   "outputs": [
    {
     "data": {
      "text/plain": [
       "Index(['APC', 'Provider Id', 'Provider Name', 'Provider Street Address',\n",
       "       'Provider City', 'Provider State', 'Provider Zip Code',\n",
       "       'Hospital Referral Region (HRR) Description', 'Outpatient Services',\n",
       "       'Average  Estimated Submitted Charges', 'Average Total Payments'],\n",
       "      dtype='object')"
      ]
     },
     "execution_count": 139,
     "metadata": {},
     "output_type": "execute_result"
    }
   ],
   "source": [
    "Medicare_Provider_Charge_Out.columns"
   ]
  },
  {
   "cell_type": "code",
   "execution_count": 140,
   "metadata": {},
   "outputs": [],
   "source": [
    "Medicare_out_drg = Medicare_Provider_Charge_Out[['APC', 'Provider Name', 'Average  Estimated Submitted Charges', 'Average Total Payments' ]]"
   ]
  },
  {
   "cell_type": "code",
   "execution_count": 141,
   "metadata": {},
   "outputs": [
    {
     "name": "stderr",
     "output_type": "stream",
     "text": [
      "C:\\Users\\arnav\\Anaconda3\\lib\\site-packages\\ipykernel_launcher.py:2: SettingWithCopyWarning: \n",
      "A value is trying to be set on a copy of a slice from a DataFrame.\n",
      "Try using .loc[row_indexer,col_indexer] = value instead\n",
      "\n",
      "See the caveats in the documentation: http://pandas.pydata.org/pandas-docs/stable/indexing.html#indexing-view-versus-copy\n",
      "  \n"
     ]
    }
   ],
   "source": [
    "#Difference of claim and reimbursement\n",
    "Medicare_out_drg['CLAIM_DIFF'] = Medicare_out_drg.apply(lambda x: x['Average  Estimated Submitted Charges'] - x['Average Total Payments'],axis =1)"
   ]
  },
  {
   "cell_type": "code",
   "execution_count": 142,
   "metadata": {},
   "outputs": [
    {
     "data": {
      "text/html": [
       "<div>\n",
       "<style scoped>\n",
       "    .dataframe tbody tr th:only-of-type {\n",
       "        vertical-align: middle;\n",
       "    }\n",
       "\n",
       "    .dataframe tbody tr th {\n",
       "        vertical-align: top;\n",
       "    }\n",
       "\n",
       "    .dataframe thead th {\n",
       "        text-align: right;\n",
       "    }\n",
       "</style>\n",
       "<table border=\"1\" class=\"dataframe\">\n",
       "  <thead>\n",
       "    <tr style=\"text-align: right;\">\n",
       "      <th></th>\n",
       "      <th>APC</th>\n",
       "      <th>Provider Name</th>\n",
       "      <th>Average  Estimated Submitted Charges</th>\n",
       "      <th>Average Total Payments</th>\n",
       "      <th>CLAIM_DIFF</th>\n",
       "    </tr>\n",
       "  </thead>\n",
       "  <tbody>\n",
       "    <tr>\n",
       "      <th>0</th>\n",
       "      <td>0012 - Level I Debridement &amp; Destruction</td>\n",
       "      <td>EAST ALABAMA MEDICAL CENTER AND SNF</td>\n",
       "      <td>78.086957</td>\n",
       "      <td>21.910435</td>\n",
       "      <td>56.176522</td>\n",
       "    </tr>\n",
       "    <tr>\n",
       "      <th>1</th>\n",
       "      <td>0012 - Level I Debridement &amp; Destruction</td>\n",
       "      <td>CENTRAL PENINSULA GENERAL HOSPITAL</td>\n",
       "      <td>149.589749</td>\n",
       "      <td>36.623853</td>\n",
       "      <td>112.965895</td>\n",
       "    </tr>\n",
       "    <tr>\n",
       "      <th>2</th>\n",
       "      <td>0012 - Level I Debridement &amp; Destruction</td>\n",
       "      <td>UNIVERSITY OF ARIZONA MEDICAL CTR-UNIVERSIT, THE</td>\n",
       "      <td>50.135411</td>\n",
       "      <td>14.541841</td>\n",
       "      <td>35.593569</td>\n",
       "    </tr>\n",
       "  </tbody>\n",
       "</table>\n",
       "</div>"
      ],
      "text/plain": [
       "                                        APC  \\\n",
       "0  0012 - Level I Debridement & Destruction   \n",
       "1  0012 - Level I Debridement & Destruction   \n",
       "2  0012 - Level I Debridement & Destruction   \n",
       "\n",
       "                                      Provider Name  \\\n",
       "0               EAST ALABAMA MEDICAL CENTER AND SNF   \n",
       "1                CENTRAL PENINSULA GENERAL HOSPITAL   \n",
       "2  UNIVERSITY OF ARIZONA MEDICAL CTR-UNIVERSIT, THE   \n",
       "\n",
       "   Average  Estimated Submitted Charges  Average Total Payments  CLAIM_DIFF  \n",
       "0                             78.086957               21.910435   56.176522  \n",
       "1                            149.589749               36.623853  112.965895  \n",
       "2                             50.135411               14.541841   35.593569  "
      ]
     },
     "execution_count": 142,
     "metadata": {},
     "output_type": "execute_result"
    }
   ],
   "source": [
    "Medicare_out_drg.head(3)"
   ]
  },
  {
   "cell_type": "code",
   "execution_count": 144,
   "metadata": {},
   "outputs": [],
   "source": [
    "#Finding the mean of Average Covered Charges for InpatientDRG by DRG Defination and Provider\n",
    "Medicare_out_ag = pd.DataFrame(Medicare_out_drg[['APC', 'Provider Name', 'CLAIM_DIFF']].groupby(['APC', 'Provider Name']).agg('mean').add_suffix('_avg')).reset_index()"
   ]
  },
  {
   "cell_type": "code",
   "execution_count": 145,
   "metadata": {},
   "outputs": [
    {
     "data": {
      "text/html": [
       "<div>\n",
       "<style scoped>\n",
       "    .dataframe tbody tr th:only-of-type {\n",
       "        vertical-align: middle;\n",
       "    }\n",
       "\n",
       "    .dataframe tbody tr th {\n",
       "        vertical-align: top;\n",
       "    }\n",
       "\n",
       "    .dataframe thead th {\n",
       "        text-align: right;\n",
       "    }\n",
       "</style>\n",
       "<table border=\"1\" class=\"dataframe\">\n",
       "  <thead>\n",
       "    <tr style=\"text-align: right;\">\n",
       "      <th></th>\n",
       "      <th>APC</th>\n",
       "      <th>Provider Name</th>\n",
       "      <th>CLAIM_DIFF_avg</th>\n",
       "    </tr>\n",
       "  </thead>\n",
       "  <tbody>\n",
       "    <tr>\n",
       "      <th>0</th>\n",
       "      <td>0012 - Level I Debridement &amp; Destruction</td>\n",
       "      <td>ALTON MEMORIAL HOSPITAL</td>\n",
       "      <td>91.856818</td>\n",
       "    </tr>\n",
       "    <tr>\n",
       "      <th>1</th>\n",
       "      <td>0012 - Level I Debridement &amp; Destruction</td>\n",
       "      <td>ALTRU HOSPITAL</td>\n",
       "      <td>7.259495</td>\n",
       "    </tr>\n",
       "    <tr>\n",
       "      <th>2</th>\n",
       "      <td>0012 - Level I Debridement &amp; Destruction</td>\n",
       "      <td>ARNOT OGDEN MEDICAL CENTER</td>\n",
       "      <td>98.893846</td>\n",
       "    </tr>\n",
       "    <tr>\n",
       "      <th>3</th>\n",
       "      <td>0012 - Level I Debridement &amp; Destruction</td>\n",
       "      <td>AROOSTOOK MEDICAL CENTER,THE</td>\n",
       "      <td>16.975013</td>\n",
       "    </tr>\n",
       "    <tr>\n",
       "      <th>4</th>\n",
       "      <td>0012 - Level I Debridement &amp; Destruction</td>\n",
       "      <td>AVERA MCKENNAN HOSPITAL &amp; UNIVERSITY HEALTH CE...</td>\n",
       "      <td>22.306715</td>\n",
       "    </tr>\n",
       "  </tbody>\n",
       "</table>\n",
       "</div>"
      ],
      "text/plain": [
       "                                        APC  \\\n",
       "0  0012 - Level I Debridement & Destruction   \n",
       "1  0012 - Level I Debridement & Destruction   \n",
       "2  0012 - Level I Debridement & Destruction   \n",
       "3  0012 - Level I Debridement & Destruction   \n",
       "4  0012 - Level I Debridement & Destruction   \n",
       "\n",
       "                                       Provider Name  CLAIM_DIFF_avg  \n",
       "0                            ALTON MEMORIAL HOSPITAL       91.856818  \n",
       "1                                     ALTRU HOSPITAL        7.259495  \n",
       "2                         ARNOT OGDEN MEDICAL CENTER       98.893846  \n",
       "3                       AROOSTOOK MEDICAL CENTER,THE       16.975013  \n",
       "4  AVERA MCKENNAN HOSPITAL & UNIVERSITY HEALTH CE...       22.306715  "
      ]
     },
     "execution_count": 145,
     "metadata": {},
     "output_type": "execute_result"
    }
   ],
   "source": [
    "Medicare_out_ag.head(5)"
   ]
  },
  {
   "cell_type": "code",
   "execution_count": 146,
   "metadata": {},
   "outputs": [],
   "source": [
    "#Finding the max for InpatientDRG DRG Definition\n",
    "Medicare_out_max = pd.DataFrame(Medicare_out_ag[['APC', 'CLAIM_DIFF_avg']].groupby(['APC']).agg('max').add_suffix('_max')).reset_index()"
   ]
  },
  {
   "cell_type": "code",
   "execution_count": 147,
   "metadata": {},
   "outputs": [
    {
     "data": {
      "text/html": [
       "<div>\n",
       "<style scoped>\n",
       "    .dataframe tbody tr th:only-of-type {\n",
       "        vertical-align: middle;\n",
       "    }\n",
       "\n",
       "    .dataframe tbody tr th {\n",
       "        vertical-align: top;\n",
       "    }\n",
       "\n",
       "    .dataframe thead th {\n",
       "        text-align: right;\n",
       "    }\n",
       "</style>\n",
       "<table border=\"1\" class=\"dataframe\">\n",
       "  <thead>\n",
       "    <tr style=\"text-align: right;\">\n",
       "      <th></th>\n",
       "      <th>APC</th>\n",
       "      <th>CLAIM_DIFF_avg_max</th>\n",
       "    </tr>\n",
       "  </thead>\n",
       "  <tbody>\n",
       "    <tr>\n",
       "      <th>0</th>\n",
       "      <td>0012 - Level I Debridement &amp; Destruction</td>\n",
       "      <td>827.44000</td>\n",
       "    </tr>\n",
       "    <tr>\n",
       "      <th>1</th>\n",
       "      <td>0013 - Level II Debridement &amp; Destruction</td>\n",
       "      <td>5175.40000</td>\n",
       "    </tr>\n",
       "    <tr>\n",
       "      <th>2</th>\n",
       "      <td>0015 - Level III Debridement &amp; Destruction</td>\n",
       "      <td>2980.73963</td>\n",
       "    </tr>\n",
       "    <tr>\n",
       "      <th>3</th>\n",
       "      <td>0019 - Level I Excision/ Biopsy</td>\n",
       "      <td>26073.80500</td>\n",
       "    </tr>\n",
       "    <tr>\n",
       "      <th>4</th>\n",
       "      <td>0020 - Level II Excision/ Biopsy</td>\n",
       "      <td>18362.75882</td>\n",
       "    </tr>\n",
       "  </tbody>\n",
       "</table>\n",
       "</div>"
      ],
      "text/plain": [
       "                                          APC  CLAIM_DIFF_avg_max\n",
       "0    0012 - Level I Debridement & Destruction           827.44000\n",
       "1   0013 - Level II Debridement & Destruction          5175.40000\n",
       "2  0015 - Level III Debridement & Destruction          2980.73963\n",
       "3             0019 - Level I Excision/ Biopsy         26073.80500\n",
       "4            0020 - Level II Excision/ Biopsy         18362.75882"
      ]
     },
     "execution_count": 147,
     "metadata": {},
     "output_type": "execute_result"
    }
   ],
   "source": [
    "Medicare_out_max.head()"
   ]
  },
  {
   "cell_type": "code",
   "execution_count": 149,
   "metadata": {},
   "outputs": [],
   "source": [
    "#Merging The mean and max - will give side by side comparison of region having highest claim difference\n",
    "Medicare_out_merg = Medicare_out_ag.merge(Medicare_out_max,on='APC', how='left')"
   ]
  },
  {
   "cell_type": "code",
   "execution_count": 150,
   "metadata": {},
   "outputs": [
    {
     "data": {
      "text/html": [
       "<div>\n",
       "<style scoped>\n",
       "    .dataframe tbody tr th:only-of-type {\n",
       "        vertical-align: middle;\n",
       "    }\n",
       "\n",
       "    .dataframe tbody tr th {\n",
       "        vertical-align: top;\n",
       "    }\n",
       "\n",
       "    .dataframe thead th {\n",
       "        text-align: right;\n",
       "    }\n",
       "</style>\n",
       "<table border=\"1\" class=\"dataframe\">\n",
       "  <thead>\n",
       "    <tr style=\"text-align: right;\">\n",
       "      <th></th>\n",
       "      <th>APC</th>\n",
       "      <th>Provider Name</th>\n",
       "      <th>CLAIM_DIFF_avg</th>\n",
       "      <th>CLAIM_DIFF_avg_max</th>\n",
       "    </tr>\n",
       "  </thead>\n",
       "  <tbody>\n",
       "    <tr>\n",
       "      <th>0</th>\n",
       "      <td>0012 - Level I Debridement &amp; Destruction</td>\n",
       "      <td>ALTON MEMORIAL HOSPITAL</td>\n",
       "      <td>91.856818</td>\n",
       "      <td>827.44</td>\n",
       "    </tr>\n",
       "    <tr>\n",
       "      <th>1</th>\n",
       "      <td>0012 - Level I Debridement &amp; Destruction</td>\n",
       "      <td>ALTRU HOSPITAL</td>\n",
       "      <td>7.259495</td>\n",
       "      <td>827.44</td>\n",
       "    </tr>\n",
       "    <tr>\n",
       "      <th>2</th>\n",
       "      <td>0012 - Level I Debridement &amp; Destruction</td>\n",
       "      <td>ARNOT OGDEN MEDICAL CENTER</td>\n",
       "      <td>98.893846</td>\n",
       "      <td>827.44</td>\n",
       "    </tr>\n",
       "    <tr>\n",
       "      <th>3</th>\n",
       "      <td>0012 - Level I Debridement &amp; Destruction</td>\n",
       "      <td>AROOSTOOK MEDICAL CENTER,THE</td>\n",
       "      <td>16.975013</td>\n",
       "      <td>827.44</td>\n",
       "    </tr>\n",
       "    <tr>\n",
       "      <th>4</th>\n",
       "      <td>0012 - Level I Debridement &amp; Destruction</td>\n",
       "      <td>AVERA MCKENNAN HOSPITAL &amp; UNIVERSITY HEALTH CE...</td>\n",
       "      <td>22.306715</td>\n",
       "      <td>827.44</td>\n",
       "    </tr>\n",
       "  </tbody>\n",
       "</table>\n",
       "</div>"
      ],
      "text/plain": [
       "                                        APC  \\\n",
       "0  0012 - Level I Debridement & Destruction   \n",
       "1  0012 - Level I Debridement & Destruction   \n",
       "2  0012 - Level I Debridement & Destruction   \n",
       "3  0012 - Level I Debridement & Destruction   \n",
       "4  0012 - Level I Debridement & Destruction   \n",
       "\n",
       "                                       Provider Name  CLAIM_DIFF_avg  \\\n",
       "0                            ALTON MEMORIAL HOSPITAL       91.856818   \n",
       "1                                     ALTRU HOSPITAL        7.259495   \n",
       "2                         ARNOT OGDEN MEDICAL CENTER       98.893846   \n",
       "3                       AROOSTOOK MEDICAL CENTER,THE       16.975013   \n",
       "4  AVERA MCKENNAN HOSPITAL & UNIVERSITY HEALTH CE...       22.306715   \n",
       "\n",
       "   CLAIM_DIFF_avg_max  \n",
       "0              827.44  \n",
       "1              827.44  \n",
       "2              827.44  \n",
       "3              827.44  \n",
       "4              827.44  "
      ]
     },
     "execution_count": 150,
     "metadata": {},
     "output_type": "execute_result"
    }
   ],
   "source": [
    "Medicare_out_merg.head()"
   ]
  },
  {
   "cell_type": "code",
   "execution_count": 151,
   "metadata": {},
   "outputs": [],
   "source": [
    "temp6=Medicare_out_merg.loc[Medicare_out_merg['CLAIM_DIFF_avg']>=Medicare_out_merg['CLAIM_DIFF_avg_max'],]"
   ]
  },
  {
   "cell_type": "code",
   "execution_count": 152,
   "metadata": {},
   "outputs": [
    {
     "data": {
      "text/html": [
       "<div>\n",
       "<style scoped>\n",
       "    .dataframe tbody tr th:only-of-type {\n",
       "        vertical-align: middle;\n",
       "    }\n",
       "\n",
       "    .dataframe tbody tr th {\n",
       "        vertical-align: top;\n",
       "    }\n",
       "\n",
       "    .dataframe thead th {\n",
       "        text-align: right;\n",
       "    }\n",
       "</style>\n",
       "<table border=\"1\" class=\"dataframe\">\n",
       "  <thead>\n",
       "    <tr style=\"text-align: right;\">\n",
       "      <th></th>\n",
       "      <th>Provider Name</th>\n",
       "      <th>CLAIM_DIFF_avg_count</th>\n",
       "    </tr>\n",
       "  </thead>\n",
       "  <tbody>\n",
       "    <tr>\n",
       "      <th>3</th>\n",
       "      <td>COLUMBIA HOSPITAL</td>\n",
       "      <td>2</td>\n",
       "    </tr>\n",
       "    <tr>\n",
       "      <th>8</th>\n",
       "      <td>FORT WALTON BEACH MEDICAL CENTER</td>\n",
       "      <td>2</td>\n",
       "    </tr>\n",
       "    <tr>\n",
       "      <th>1</th>\n",
       "      <td>CAPITAL HEALTH MEDICAL CENTER - HOPEWELL</td>\n",
       "      <td>2</td>\n",
       "    </tr>\n",
       "  </tbody>\n",
       "</table>\n",
       "</div>"
      ],
      "text/plain": [
       "                              Provider Name  CLAIM_DIFF_avg_count\n",
       "3                         COLUMBIA HOSPITAL                     2\n",
       "8          FORT WALTON BEACH MEDICAL CENTER                     2\n",
       "1  CAPITAL HEALTH MEDICAL CENTER - HOPEWELL                     2"
      ]
     },
     "execution_count": 152,
     "metadata": {},
     "output_type": "execute_result"
    }
   ],
   "source": [
    "##getting number of times a provider has max claim diff for max procudures\n",
    "temp6[['Provider Name','CLAIM_DIFF_avg']].groupby('Provider Name').count().add_suffix('_count').reset_index().sort_values(by=['CLAIM_DIFF_avg_count'],ascending=False).head(3)"
   ]
  }
 ],
 "metadata": {
  "kernelspec": {
   "display_name": "Python 3",
   "language": "python",
   "name": "python3"
  },
  "language_info": {
   "codemirror_mode": {
    "name": "ipython",
    "version": 3
   },
   "file_extension": ".py",
   "mimetype": "text/x-python",
   "name": "python",
   "nbconvert_exporter": "python",
   "pygments_lexer": "ipython3",
   "version": "3.7.3"
  }
 },
 "nbformat": 4,
 "nbformat_minor": 2
}
